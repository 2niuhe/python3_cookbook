{
 "cells": [
  {
   "cell_type": "markdown",
   "metadata": {},
   "source": [
    "### CSV Intro\n",
    "> The csv module can be used to work with data exported from spreadsheets and databases into text files formatted with fields and records, commonly referred to as comma-separated value (CSV) format because commas are often used to separate the fields in a record."
   ]
  },
  {
   "cell_type": "markdown",
   "metadata": {},
   "source": [
    "### Reading\n",
    "- reader()\n",
    "> Use reader() to create a an object for reading data from a CSV file. The reader can be used as an iterator to process the rows of the file in order. "
   ]
  },
  {
   "cell_type": "code",
   "execution_count": 1,
   "metadata": {},
   "outputs": [
    {
     "name": "stdout",
     "output_type": "stream",
     "text": [
      "['Title 1', 'Title 2', 'Title 3', 'Title 4']\n",
      "['1', 'a', '08/18/07', 'å']\n",
      "['2', 'b', '08/19/07', '∫']\n",
      "['3', 'c', '08/20/07', 'ç']\n"
     ]
    }
   ],
   "source": [
    "import csv\n",
    "import sys\n",
    "\n",
    "with open(\"testdata.csv\", 'rt') as f:\n",
    "    reader = csv.reader(f)\n",
    "    for row in reader:\n",
    "        print(row)"
   ]
  },
  {
   "cell_type": "markdown",
   "metadata": {},
   "source": [
    "### Writing \n",
    "- writer()\n",
    "> Use writer() to create an object for writing, then iterate over the rows, using writerow() to print them."
   ]
  },
  {
   "cell_type": "code",
   "execution_count": 3,
   "metadata": {},
   "outputs": [
    {
     "name": "stdout",
     "output_type": "stream",
     "text": [
      "Title 1,Title 2,Title 3,Title 4\n",
      "1,a,08/01/07,å\n",
      "2,b,08/02/07,∫\n",
      "3,c,08/03/07,ç\n",
      "\n"
     ]
    }
   ],
   "source": [
    "import csv\n",
    "import sys\n",
    "\n",
    "unicode_chars = 'å∫ç'\n",
    "\n",
    "with open(\"testdata.csv\", 'wt') as f:\n",
    "    writer = csv.writer(f)\n",
    "    writer.writerow(('Title 1', 'Title 2', 'Title 3', 'Title 4'))\n",
    "    for i in range(3):\n",
    "        row = (\n",
    "            i + 1,\n",
    "            chr(ord('a') + i),\n",
    "            '08/{:02d}/07'.format(i + 1),\n",
    "            unicode_chars[i],\n",
    "        )\n",
    "        writer.writerow(row)\n",
    "\n",
    "print(open(\"testdata.csv\", 'rt').read())"
   ]
  },
  {
   "cell_type": "markdown",
   "metadata": {},
   "source": [
    "#### Quoting\n",
    "> You can set the quoting argument to one of the other quoting modes.\n",
    "> \n",
    "> 设置参数来确定字段是否加引号\n",
    "> \n",
    "\n",
    "- QUOTE_ALL\n",
    "> Quote everything, regardless of type.\n",
    "- QUOTE_MINIMAL\n",
    "> Quote fields with special characters (anything that would confuse a parser configured with the same dialect and options). This is the - default\n",
    "- QUOTE_NONNUMERIC\n",
    "> Quote all fields that are not integers or floats. When used with the reader, input fields that are not quoted are converted to floats.\n",
    "- QUOTE_NONE\n",
    "> Do not quote anything on output. When used with the reader, quote characters are included in the field values (normally, they are treated as delimiters and stripped)."
   ]
  },
  {
   "cell_type": "code",
   "execution_count": 6,
   "metadata": {},
   "outputs": [
    {
     "name": "stdout",
     "output_type": "stream",
     "text": [
      "\"Title 1\",\"Title 2\",\"Title 3\",\"Title 4\"\n",
      "1,\"a\",\"08/01/07\",\"å\"\n",
      "2,\"b\",\"08/02/07\",\"∫\"\n",
      "3,\"c\",\"08/03/07\",\"ç\"\n",
      "\n"
     ]
    }
   ],
   "source": [
    "import csv\n",
    "import sys\n",
    "\n",
    "unicode_chars = 'å∫ç'\n",
    "\n",
    "with open(\"testdata.csv\", 'wt') as f:\n",
    "    writer = csv.writer(f,quoting = csv.QUOTE_NONNUMERIC)\n",
    "    writer.writerow(('Title 1', 'Title 2', 'Title 3', 'Title 4'))\n",
    "    for i in range(3):\n",
    "        row = (\n",
    "            i + 1,\n",
    "            chr(ord('a') + i),\n",
    "            '08/{:02d}/07'.format(i + 1),\n",
    "            unicode_chars[i],\n",
    "        )\n",
    "        writer.writerow(row)\n",
    "\n",
    "print(open(\"testdata.csv\", 'rt').read())"
   ]
  },
  {
   "cell_type": "markdown",
   "metadata": {},
   "source": [
    "### Dialects\n",
    "> The standard library includes three dialects: excel, excel-tabs, and unix. The excel dialect is for working with data in the default export format for Microsoft Excel, and also works with LibreOffice. The unix dialect quotes all fields with double-quotes and uses \\n as the record separator.\n",
    ">\n",
    "> There is no well-defined standard for comma-separated value files, so the parser needs to be flexible. This flexibility means there are many parameters to control how csv parses or writes data. Rather than passing each of these parameters to the reader and writer separately, they are grouped together into a dialect object.\n",
    "> \n",
    "> Dialect classes can be registered by name, so that callers of the csv module do not need to know the parameter settings in advance. The complete list of registered dialects can be retrieved with list_dialects().\n",
    "> \n",
    "> csv文件并没有统一的标准，例如可以采用Tab或者,作为分割符号，因此解析器需要具有灵活性。可以定义csv方言来适应其他类似csv格式的文件。"
   ]
  },
  {
   "cell_type": "code",
   "execution_count": 7,
   "metadata": {},
   "outputs": [
    {
     "name": "stdout",
     "output_type": "stream",
     "text": [
      "['excel', 'excel-tab', 'unix']\n"
     ]
    }
   ],
   "source": [
    "import csv\n",
    "print(csv.list_dialects())"
   ]
  },
  {
   "cell_type": "markdown",
   "metadata": {},
   "source": [
    "#### Creating a Dialect\n",
    "> If, instead of using commas to delimit fields, the input file uses pipes (|), like this\n",
    ">> \"Title 1\"|\"Title 2\"|\"Title 3\"\n",
    ">> \n",
    ">> 1|\"first line\n",
    ">>\n",
    ">>second line\"|08/18/07"
   ]
  },
  {
   "cell_type": "code",
   "execution_count": 8,
   "metadata": {},
   "outputs": [
    {
     "name": "stdout",
     "output_type": "stream",
     "text": [
      "['Title 1', 'Title 2', 'Title 3']\n",
      "['1', 'first line\\nsecond line', '08/18/07']\n"
     ]
    }
   ],
   "source": [
    "import csv\n",
    "\n",
    "csv.register_dialect('pipes', delimiter='|')\n",
    "\n",
    "with open('testdata.pipes', 'r') as f:\n",
    "    reader = csv.reader(f, dialect='pipes')\n",
    "    for row in reader:\n",
    "        print(row)"
   ]
  },
  {
   "cell_type": "markdown",
   "metadata": {},
   "source": [
    "#### Dialect Parameters\n",
    "\n",
    "> A dialect specifies all of the tokens used when parsing or writing a data file. the table below lists the aspects of the file format that can be specified, from the way columns are delimited to the character used to escape a token.\n",
    "\n",
    "| Attribute        | Default      | Meaning                                                      |\n",
    "| :--------------- | :------------: | :------------------------------------------------------------ |\n",
    "| delimiter        | ,            | Field separator(one character)                               |\n",
    "| doublequote      | True         | Flag controlling whether quotechar instances are doubled     |\n",
    "| escapechar       | None         | Character used to indicate an escape sequence                |\n",
    "| lIneterminator   | \\r\\n         | String used by writer to terminate a line                    |\n",
    "| quoterchar       | \"\"           | String to surround fields containg special values (one character) |\n",
    "| quoting          | QUOTE_MINMAL | Controls quoting behavior described earlier                  |\n",
    "| skipinitialspace | False        | Ignore whitespace ager the field delimiter                   |\n"
   ]
  },
  {
   "cell_type": "code",
   "execution_count": 9,
   "metadata": {},
   "outputs": [
    {
     "name": "stdout",
     "output_type": "stream",
     "text": [
      "Dialect: \"escaped\"\n",
      "\n",
      "  delimiter   = ','       skipinitialspace = False\n",
      "  doublequote = False     quoting          = QUOTE_NONE\n",
      "  quotechar   = '\"'       lineterminator   = '\\r\\n'\n",
      "  escapechar  = '\\\\'  \n",
      "\n",
      "col1,1,10/01/2010,Special chars: \\\" ' \\, to parse\r\n",
      "\n",
      "Dialect: \"excel\"\n",
      "\n",
      "  delimiter   = ','       skipinitialspace = False\n",
      "  doublequote = True      quoting          = QUOTE_MINIMAL\n",
      "  quotechar   = '\"'       lineterminator   = '\\r\\n'\n",
      "  escapechar  = None  \n",
      "\n",
      "col1,1,10/01/2010,\"Special chars: \"\" ' , to parse\"\r\n",
      "\n",
      "Dialect: \"excel-tab\"\n",
      "\n",
      "  delimiter   = '\\t'      skipinitialspace = False\n",
      "  doublequote = True      quoting          = QUOTE_MINIMAL\n",
      "  quotechar   = '\"'       lineterminator   = '\\r\\n'\n",
      "  escapechar  = None  \n",
      "\n",
      "col1\t1\t10/01/2010\t\"Special chars: \"\" ' \t to parse\"\r\n",
      "\n",
      "Dialect: \"pipes\"\n",
      "\n",
      "  delimiter   = '|'       skipinitialspace = False\n",
      "  doublequote = True      quoting          = QUOTE_MINIMAL\n",
      "  quotechar   = '\"'       lineterminator   = '\\r\\n'\n",
      "  escapechar  = None  \n",
      "\n",
      "col1|1|10/01/2010|\"Special chars: \"\" ' | to parse\"\r\n",
      "\n",
      "Dialect: \"singlequote\"\n",
      "\n",
      "  delimiter   = ','       skipinitialspace = False\n",
      "  doublequote = True      quoting          = QUOTE_ALL\n",
      "  quotechar   = \"'\"       lineterminator   = '\\r\\n'\n",
      "  escapechar  = None  \n",
      "\n",
      "'col1','1','10/01/2010','Special chars: \" '' , to parse'\r\n",
      "\n",
      "Dialect: \"unix\"\n",
      "\n",
      "  delimiter   = ','       skipinitialspace = False\n",
      "  doublequote = True      quoting          = QUOTE_ALL\n",
      "  quotechar   = '\"'       lineterminator   = '\\n'\n",
      "  escapechar  = None  \n",
      "\n",
      "\"col1\",\"1\",\"10/01/2010\",\"Special chars: \"\" ' , to parse\"\n",
      "\n"
     ]
    }
   ],
   "source": [
    "import csv\n",
    "import sys\n",
    "\n",
    "csv.register_dialect('escaped',\n",
    "                     escapechar='\\\\',\n",
    "                     doublequote=False,\n",
    "                     quoting=csv.QUOTE_NONE,\n",
    "                     )\n",
    "csv.register_dialect('singlequote',\n",
    "                     quotechar=\"'\",\n",
    "                     quoting=csv.QUOTE_ALL,\n",
    "                     )\n",
    "\n",
    "quoting_modes = {\n",
    "    getattr(csv, n): n\n",
    "    for n in dir(csv)\n",
    "    if n.startswith('QUOTE_')\n",
    "}\n",
    "\n",
    "TEMPLATE = '''\\\n",
    "Dialect: \"{name}\"\n",
    "\n",
    "  delimiter   = {dl!r:<6}    skipinitialspace = {si!r}\n",
    "  doublequote = {dq!r:<6}    quoting          = {qu}\n",
    "  quotechar   = {qc!r:<6}    lineterminator   = {lt!r}\n",
    "  escapechar  = {ec!r:<6}\n",
    "'''\n",
    "\n",
    "for name in sorted(csv.list_dialects()):\n",
    "    dialect = csv.get_dialect(name)\n",
    "\n",
    "    print(TEMPLATE.format(\n",
    "        name=name,\n",
    "        dl=dialect.delimiter,\n",
    "        si=dialect.skipinitialspace,\n",
    "        dq=dialect.doublequote,\n",
    "        qu=quoting_modes[dialect.quoting],\n",
    "        qc=dialect.quotechar,\n",
    "        lt=dialect.lineterminator,\n",
    "        ec=dialect.escapechar,\n",
    "    ))\n",
    "\n",
    "    writer = csv.writer(sys.stdout, dialect=dialect)\n",
    "    writer.writerow(\n",
    "        ('col1', 1, '10/01/2010',\n",
    "         'Special chars: \" \\' {} to parse'.format(\n",
    "             dialect.delimiter))\n",
    "    )\n",
    "    print()"
   ]
  },
  {
   "cell_type": "markdown",
   "metadata": {},
   "source": [
    "#### Automatically Detecting Dialects\n",
    "> The best way to configure a dialect for parsing an input file is to know the correct settings in advance. For data where the dialect parameters are unknown, the Sniffer class can be used to make an educated guess. The sniff() method takes a sample of the input data and an optional argument giving the possible delimiter characters.\n",
    "> \n",
    "> sniff() returns a Dialect instance with the settings to be used for parsing the data. The results are not always perfect, as demonstrated by the “escaped” dialect in the example."
   ]
  },
  {
   "cell_type": "code",
   "execution_count": 10,
   "metadata": {},
   "outputs": [
    {
     "name": "stdout",
     "output_type": "stream",
     "text": [
      "Dialect: \"escaped\"\n",
      "In: col1,1,10/01/2010,Special chars \\\" ' \\, to parse\n",
      "Parsed:\n",
      "  'col1'\n",
      "  '1'\n",
      "  '10/01/2010'\n",
      "  'Special chars \\\\\" \\' \\\\'\n",
      "  ' to parse'\n",
      "\n",
      "Dialect: \"excel\"\n",
      "In: col1,1,10/01/2010,\"Special chars \"\" ' , to parse\"\n",
      "Parsed:\n",
      "  'col1'\n",
      "  '1'\n",
      "  '10/01/2010'\n",
      "  'Special chars \" \\' , to parse'\n",
      "\n",
      "Dialect: \"excel-tab\"\n",
      "In: col1\t1\t10/01/2010\t\"Special chars \"\" ' \t to parse\"\n",
      "Parsed:\n",
      "  'col1'\n",
      "  '1'\n",
      "  '10/01/2010'\n",
      "  'Special chars \" \\' \\t to parse'\n",
      "\n",
      "Dialect: \"pipes\"\n",
      "In: col1|1|10/01/2010|\"Special chars \"\" ' | to parse\"\n"
     ]
    },
    {
     "ename": "Error",
     "evalue": "Could not determine delimiter",
     "output_type": "error",
     "traceback": [
      "\u001b[0;31m---------------------------------------------------------------------------\u001b[0m",
      "\u001b[0;31mError\u001b[0m                                     Traceback (most recent call last)",
      "\u001b[0;32m<ipython-input-10-6859ed694a4d>\u001b[0m in \u001b[0;36m<module>\u001b[0;34m\u001b[0m\n\u001b[1;32m     30\u001b[0m     \u001b[0mprint\u001b[0m\u001b[0;34m(\u001b[0m\u001b[0;34m'Dialect: \"{}\"'\u001b[0m\u001b[0;34m.\u001b[0m\u001b[0mformat\u001b[0m\u001b[0;34m(\u001b[0m\u001b[0mname\u001b[0m\u001b[0;34m)\u001b[0m\u001b[0;34m)\u001b[0m\u001b[0;34m\u001b[0m\u001b[0;34m\u001b[0m\u001b[0m\n\u001b[1;32m     31\u001b[0m     \u001b[0mprint\u001b[0m\u001b[0;34m(\u001b[0m\u001b[0;34m'In: {}'\u001b[0m\u001b[0;34m.\u001b[0m\u001b[0mformat\u001b[0m\u001b[0;34m(\u001b[0m\u001b[0msample\u001b[0m\u001b[0;34m.\u001b[0m\u001b[0mrstrip\u001b[0m\u001b[0;34m(\u001b[0m\u001b[0;34m)\u001b[0m\u001b[0;34m)\u001b[0m\u001b[0;34m)\u001b[0m\u001b[0;34m\u001b[0m\u001b[0;34m\u001b[0m\u001b[0m\n\u001b[0;32m---> 32\u001b[0;31m     \u001b[0mdialect\u001b[0m \u001b[0;34m=\u001b[0m \u001b[0msniffer\u001b[0m\u001b[0;34m.\u001b[0m\u001b[0msniff\u001b[0m\u001b[0;34m(\u001b[0m\u001b[0msample\u001b[0m\u001b[0;34m,\u001b[0m \u001b[0mdelimiters\u001b[0m\u001b[0;34m=\u001b[0m\u001b[0;34m',\\t'\u001b[0m\u001b[0;34m)\u001b[0m\u001b[0;34m\u001b[0m\u001b[0;34m\u001b[0m\u001b[0m\n\u001b[0m\u001b[1;32m     33\u001b[0m     \u001b[0mreader\u001b[0m \u001b[0;34m=\u001b[0m \u001b[0mcsv\u001b[0m\u001b[0;34m.\u001b[0m\u001b[0mreader\u001b[0m\u001b[0;34m(\u001b[0m\u001b[0mStringIO\u001b[0m\u001b[0;34m(\u001b[0m\u001b[0msample\u001b[0m\u001b[0;34m)\u001b[0m\u001b[0;34m,\u001b[0m \u001b[0mdialect\u001b[0m\u001b[0;34m=\u001b[0m\u001b[0mdialect\u001b[0m\u001b[0;34m)\u001b[0m\u001b[0;34m\u001b[0m\u001b[0;34m\u001b[0m\u001b[0m\n\u001b[1;32m     34\u001b[0m     print('Parsed:\\n  {}\\n'.format(\n",
      "\u001b[0;32m/usr/lib/python3.8/csv.py\u001b[0m in \u001b[0;36msniff\u001b[0;34m(self, sample, delimiters)\u001b[0m\n\u001b[1;32m    185\u001b[0m \u001b[0;34m\u001b[0m\u001b[0m\n\u001b[1;32m    186\u001b[0m         \u001b[0;32mif\u001b[0m \u001b[0;32mnot\u001b[0m \u001b[0mdelimiter\u001b[0m\u001b[0;34m:\u001b[0m\u001b[0;34m\u001b[0m\u001b[0;34m\u001b[0m\u001b[0m\n\u001b[0;32m--> 187\u001b[0;31m             \u001b[0;32mraise\u001b[0m \u001b[0mError\u001b[0m\u001b[0;34m(\u001b[0m\u001b[0;34m\"Could not determine delimiter\"\u001b[0m\u001b[0;34m)\u001b[0m\u001b[0;34m\u001b[0m\u001b[0;34m\u001b[0m\u001b[0m\n\u001b[0m\u001b[1;32m    188\u001b[0m \u001b[0;34m\u001b[0m\u001b[0m\n\u001b[1;32m    189\u001b[0m         \u001b[0;32mclass\u001b[0m \u001b[0mdialect\u001b[0m\u001b[0;34m(\u001b[0m\u001b[0mDialect\u001b[0m\u001b[0;34m)\u001b[0m\u001b[0;34m:\u001b[0m\u001b[0;34m\u001b[0m\u001b[0;34m\u001b[0m\u001b[0m\n",
      "\u001b[0;31mError\u001b[0m: Could not determine delimiter"
     ]
    }
   ],
   "source": [
    "import csv\n",
    "from io import StringIO\n",
    "import textwrap\n",
    "\n",
    "csv.register_dialect('escaped',\n",
    "                     escapechar='\\\\',\n",
    "                     doublequote=False,\n",
    "                     quoting=csv.QUOTE_NONE)\n",
    "csv.register_dialect('singlequote',\n",
    "                     quotechar=\"'\",\n",
    "                     quoting=csv.QUOTE_ALL)\n",
    "\n",
    "# Generate sample data for all known dialects\n",
    "samples = []\n",
    "for name in sorted(csv.list_dialects()):\n",
    "    buffer = StringIO()\n",
    "    dialect = csv.get_dialect(name)\n",
    "    writer = csv.writer(buffer, dialect=dialect)\n",
    "    writer.writerow(\n",
    "        ('col1', 1, '10/01/2010',\n",
    "         'Special chars \" \\' {} to parse'.format(\n",
    "             dialect.delimiter))\n",
    "    )\n",
    "    samples.append((name, dialect, buffer.getvalue()))\n",
    "\n",
    "# Guess the dialect for a given sample, and then use the results\n",
    "# to parse the data.\n",
    "sniffer = csv.Sniffer()\n",
    "for name, expected, sample in samples:\n",
    "    print('Dialect: \"{}\"'.format(name))\n",
    "    print('In: {}'.format(sample.rstrip()))\n",
    "    dialect = sniffer.sniff(sample, delimiters=',\\t')\n",
    "    reader = csv.reader(StringIO(sample), dialect=dialect)\n",
    "    print('Parsed:\\n  {}\\n'.format(\n",
    "          '\\n  '.join(repr(r) for r in next(reader))))"
   ]
  },
  {
   "cell_type": "markdown",
   "metadata": {},
   "source": [
    "### Using Field Names\n",
    "> In addition to working with sequences of data, the csv module includes classes for working with rows as dictionaries so that the fields can be named. The DictReader and DictWriter classes translate rows to dictionaries instead of lists. Keys for the dictionary can be passed in, or inferred from the first row in the input (when the row contains headers).\n",
    "> \n",
    "> The dictionary-based reader and writer are implemented as wrappers around the sequence-based classes, and use the same methods and arguments. The only difference in the reader API is that rows are returned as OrderedDict instances instead of lists or tuples (under earlier verison of Python, the rows were returned as regular dict instances).\n",
    "> \n",
    "> 以字典格式读写"
   ]
  },
  {
   "cell_type": "code",
   "execution_count": 11,
   "metadata": {},
   "outputs": [
    {
     "name": "stdout",
     "output_type": "stream",
     "text": [
      "{'Title 1': '1', 'Title 2': 'a', 'Title 3': '08/01/07', 'Title 4': 'å'}\n",
      "{'Title 1': '2', 'Title 2': 'b', 'Title 3': '08/02/07', 'Title 4': '∫'}\n",
      "{'Title 1': '3', 'Title 2': 'c', 'Title 3': '08/03/07', 'Title 4': 'ç'}\n"
     ]
    }
   ],
   "source": [
    "import csv\n",
    "import sys\n",
    "\n",
    "with open(\"testdata.csv\", 'rt') as f:\n",
    "    reader = csv.DictReader(f)\n",
    "    for row in reader:\n",
    "        print(row)"
   ]
  },
  {
   "cell_type": "code",
   "execution_count": 14,
   "metadata": {},
   "outputs": [
    {
     "name": "stdout",
     "output_type": "stream",
     "text": [
      "Title 1,Title 2,Title 3,Title 4\n",
      "1,a,08/01/07,å\n",
      "2,b,08/02/07,∫\n",
      "3,c,08/03/07,ç\n",
      "\n"
     ]
    }
   ],
   "source": [
    "# The DictWriter must be given a list of field names \n",
    "# so it knows how to order the columns in the output.\n",
    "import csv\n",
    "import sys\n",
    "\n",
    "fieldnames = ('Title 1', 'Title 2', 'Title 3', 'Title 4')\n",
    "headers = {\n",
    "    n: n\n",
    "    for n in fieldnames\n",
    "}\n",
    "unicode_chars = 'å∫ç'\n",
    "\n",
    "with open(\"testdata.csv\", 'wt') as f:\n",
    "\n",
    "    writer = csv.DictWriter(f, fieldnames=fieldnames)\n",
    "    writer.writeheader()\n",
    "\n",
    "    for i in range(3):\n",
    "        writer.writerow({\n",
    "            'Title 1': i + 1,\n",
    "            'Title 2': chr(ord('a') + i),\n",
    "            'Title 3': '08/{:02d}/07'.format(i + 1),\n",
    "            'Title 4': unicode_chars[i],\n",
    "        })\n",
    "\n",
    "print(open(\"testdata.csv\", 'rt').read())"
   ]
  }
 ],
 "metadata": {
  "kernelspec": {
   "display_name": "Python 3",
   "language": "python",
   "name": "python3"
  },
  "language_info": {
   "codemirror_mode": {
    "name": "ipython",
    "version": 3
   },
   "file_extension": ".py",
   "mimetype": "text/x-python",
   "name": "python",
   "nbconvert_exporter": "python",
   "pygments_lexer": "ipython3",
   "version": "3.8.2"
  }
 },
 "nbformat": 4,
 "nbformat_minor": 4
}
