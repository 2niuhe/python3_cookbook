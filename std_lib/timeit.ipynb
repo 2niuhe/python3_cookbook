{
 "cells": [
  {
   "cell_type": "markdown",
   "metadata": {},
   "source": [
    "## timeit\n",
    "> 测量小段Python代码的执行时间"
   ]
  },
  {
   "cell_type": "markdown",
   "metadata": {},
   "source": [
    "### 模块内容\n",
    "> timeit 定义了一个公共类Timer,Timer构造函数有两个参数：\n",
    "- 要测量时间的主语句\n",
    "- '建立'语句(如初始化变量)\n",
    "\n",
    "> timeit会运行一次建立语句，然后反复执行主语句，并返回运行主语句花费的累计时间。"
   ]
  },
  {
   "cell_type": "markdown",
   "metadata": {},
   "source": [
    "### 基本示例"
   ]
  },
  {
   "cell_type": "code",
   "execution_count": 1,
   "metadata": {},
   "outputs": [
    {
     "name": "stdout",
     "output_type": "stream",
     "text": [
      "TIMEIT:\n",
      "setup\n",
      "main statement\n",
      "main statement\n",
      "0.00020543811842799187\n",
      "REPEAT:\n",
      "setup\n",
      "main statement\n",
      "main statement\n",
      "setup\n",
      "main statement\n",
      "main statement\n",
      "setup\n",
      "main statement\n",
      "main statement\n",
      "[0.00018724007532000542, 0.0018099183216691017, 0.0002105897292494774]\n"
     ]
    }
   ],
   "source": [
    "import timeit\n",
    "\n",
    "# using setitem\n",
    "t = timeit.Timer(\"print('main statement')\", \"print('setup')\")\n",
    "\n",
    "print('TIMEIT:')\n",
    "print(t.timeit(2))\n",
    "\n",
    "print('REPEAT:')\n",
    "print(t.repeat(3, 2))"
   ]
  },
  {
   "cell_type": "markdown",
   "metadata": {},
   "source": [
    "### 值存储在字典中\n",
    "> 例子比较了用不同方法用大量填充一个字典所用的时间，首先使用setup_statement变量初始化一个元组列表，这些元组中包含主语句用来构建字典的字符串和整数。"
   ]
  },
  {
   "cell_type": "code",
   "execution_count": 3,
   "metadata": {},
   "outputs": [
    {
     "name": "stdout",
     "output_type": "stream",
     "text": [
      "1000 items\n",
      "1000 iterations\n",
      "\n",
      "__setitem__: 145.54 usec/pass   0.15 usec/item\n",
      "setdefault : 375.41 usec/pass   0.38 usec/item\n",
      "KeyError   : 162.32 usec/pass   0.16 usec/item\n",
      "\"not in\"   : 129.16 usec/pass   0.13 usec/item\n"
     ]
    }
   ],
   "source": [
    "import timeit\n",
    "import textwrap\n",
    "# A few constants\n",
    "range_size = 1000\n",
    "count = 1000\n",
    "setup_statement = ';'.join([\n",
    "    \"l = [(str(x), x) for x in range(1000)]\",\n",
    "    \"d = {}\",\n",
    "])\n",
    "\n",
    "# 工具函数，打印每次迭代花费的时间，然后进一步将这个值缩减为在字典中存储一项所花费的平均时间。\n",
    "def show_results(result):\n",
    "    \"Print microseconds per pass and per item.\"\n",
    "    global count, range_size\n",
    "    per_pass = 1000000 * (result / count)\n",
    "    print('{:6.2f} usec/pass'.format(per_pass), end=' ')\n",
    "    per_item = per_pass / range_size\n",
    "    print('{:6.2f} usec/item'.format(per_item))\n",
    "\n",
    "\n",
    "print(\"{} items\".format(range_size))\n",
    "print(\"{} iterations\".format(count))\n",
    "print()\n",
    "\n",
    "# 版本1：__setitem__作为基准，此版本应该是最快的。\n",
    "# Using __setitem__ without checking for existing values first\n",
    "print('__setitem__:', end=' ')\n",
    "t = timeit.Timer(\n",
    "    textwrap.dedent(\n",
    "        \"\"\"\n",
    "        for s, i in l:\n",
    "            d[s] = i\n",
    "        \"\"\"),\n",
    "    setup_statement,\n",
    ")\n",
    "show_results(t.timeit(number=count))\n",
    "\n",
    "# 使用setdefaulte来确保字典中已经有的值不会被覆盖\n",
    "# Using setdefault\n",
    "print('setdefault :', end=' ')\n",
    "t = timeit.Timer(\n",
    "    textwrap.dedent(\n",
    "        \"\"\"\n",
    "        for s, i in l:\n",
    "            d.setdefault(s, i)\n",
    "        \"\"\"),\n",
    "    setup_statement,\n",
    ")\n",
    "show_results(t.timeit(number=count))\n",
    "\n",
    "# 如果查找现有值产生KeyError异常，这个方法才会增加值\n",
    "# Using exceptions\n",
    "print('KeyError   :', end=' ')\n",
    "t = timeit.Timer(\n",
    "    textwrap.dedent(\n",
    "        \"\"\"\n",
    "        for s, i in l:\n",
    "            try:\n",
    "                existing = d[s]\n",
    "            except KeyError:\n",
    "                d[s] = i\n",
    "        \"\"\"),\n",
    "    setup_statement,\n",
    ")\n",
    "show_results(t.timeit(number=count))\n",
    "\n",
    "# 使用in确定字典中是否有某个特定的键\n",
    "# Using \"in\"\n",
    "print('\"not in\"   :', end=' ')\n",
    "t = timeit.Timer(\n",
    "    textwrap.dedent(\n",
    "        \"\"\"\n",
    "        for s, i in l:\n",
    "            if s not in d:\n",
    "                d[s] = i\n",
    "        \"\"\"),\n",
    "    setup_statement,\n",
    ")\n",
    "show_results(t.timeit(number=count))"
   ]
  },
  {
   "cell_type": "markdown",
   "metadata": {},
   "source": [
    "### 从命令行执行\n",
    "> 除了编程接口，python 还提供了一个命令行接口来测试模块，而不需要自动化测试。"
   ]
  }
 ],
 "metadata": {
  "kernelspec": {
   "display_name": "Python 3",
   "language": "python",
   "name": "python3"
  },
  "language_info": {
   "codemirror_mode": {
    "name": "ipython",
    "version": 3
   },
   "file_extension": ".py",
   "mimetype": "text/x-python",
   "name": "python",
   "nbconvert_exporter": "python",
   "pygments_lexer": "ipython3",
   "version": "3.5.2"
  }
 },
 "nbformat": 4,
 "nbformat_minor": 2
}
