{
 "cells": [
  {
   "cell_type": "markdown",
   "metadata": {},
   "source": [
    "## json用法\n",
    " > Javascript Object Notation   \n",
    " > json提供了类似pickle的API，可以将内存中的python对象转化为JSON格式数据串"
   ]
  },
  {
   "cell_type": "markdown",
   "metadata": {},
   "source": [
    "### 简单数据类型编解码\n",
    "> 默认情况，编码器支持Python内置数据类型(str, int, float, list, tuple, and dict)"
   ]
  },
  {
   "cell_type": "code",
   "execution_count": 1,
   "metadata": {},
   "outputs": [
    {
     "name": "stdout",
     "output_type": "stream",
     "text": [
      "DATA: [{'a': 'A', 'b': (2, 4), 'c': 3.0}]\n",
      "JSON: [{\"a\": \"A\", \"b\": [2, 4], \"c\": 3.0}]\n"
     ]
    }
   ],
   "source": [
    "import json\n",
    "\n",
    "data = [{'a': 'A', 'b': (2, 4), 'c': 3.0}]\n",
    "print('DATA:', repr(data))\n",
    "\n",
    "data_string = json.dumps(data)\n",
    "print('JSON:', data_string)"
   ]
  },
  {
   "cell_type": "markdown",
   "metadata": {},
   "source": [
    "> 对值编码时，表面类似于python的repr()输出  \n",
    "> 然而，编码然后重新解码后，可能不会得到完全相同的对象类型。"
   ]
  },
  {
   "cell_type": "code",
   "execution_count": 2,
   "metadata": {},
   "outputs": [
    {
     "name": "stdout",
     "output_type": "stream",
     "text": [
      "DATA: [{'a': 'A', 'b': (2, 4), 'c': 3.0}]\n",
      "ENCODED: [{\"a\": \"A\", \"b\": [2, 4], \"c\": 3.0}]\n",
      "DECODED: [{'a': 'A', 'b': [2, 4], 'c': 3.0}]\n",
      "ORIGINAL: <class 'tuple'>\n",
      "DECODED: <class 'list'>\n"
     ]
    }
   ],
   "source": [
    "import json\n",
    "data = [{'a': 'A', 'b': (2, 4), 'c': 3.0}]\n",
    "print('DATA:', data)\n",
    "\n",
    "data_string = json.dumps(data)\n",
    "print('ENCODED:', data_string)\n",
    "\n",
    "decoded = json.loads(data_string)\n",
    "print('DECODED:', decoded)\n",
    "\n",
    "print('ORIGINAL:', type(data[0]['b']))\n",
    "print('DECODED:', type(decoded[0]['b']))"
   ]
  },
  {
   "cell_type": "markdown",
   "metadata": {},
   "source": [
    "### 优质输出和紧凑输出\n",
    "> json由于pickle之处在于，其输出结果可读性强。dumps()可接收多个参数，使输出更美观。"
   ]
  },
  {
   "cell_type": "code",
   "execution_count": 4,
   "metadata": {},
   "outputs": [
    {
     "name": "stdout",
     "output_type": "stream",
     "text": [
      "DATA: [{'a': 'A', 'b': (2, 4), 'c': 3.0}]\n",
      "JSON: [{\"a\": \"A\", \"b\": [2, 4], \"c\": 3.0}]\n",
      "SORT: [{\"a\": \"A\", \"b\": [2, 4], \"c\": 3.0}]\n",
      "UNSORTED MATCH: True\n",
      "SORTED MATCH  : True\n"
     ]
    }
   ],
   "source": [
    "data = [{'a': 'A', 'b': (2, 4), 'c': 3.0}]\n",
    "print('DATA:', repr(data))\n",
    "\n",
    "unsorted = json.dumps(data)\n",
    "print('JSON:', json.dumps(data))\n",
    "print('SORT:', json.dumps(data, sort_keys=True))\n",
    "\n",
    "first = json.dumps(data, sort_keys=True)\n",
    "second = json.dumps(data, sort_keys=True)\n",
    "\n",
    "print('UNSORTED MATCH:', unsorted == first)\n",
    "print('SORTED MATCH  :', first == second)"
   ]
  },
  {
   "cell_type": "markdown",
   "metadata": {},
   "source": [
    "> 对多层嵌套的数据结构，可以指定缩进值"
   ]
  },
  {
   "cell_type": "code",
   "execution_count": 5,
   "metadata": {},
   "outputs": [
    {
     "name": "stdout",
     "output_type": "stream",
     "text": [
      "DATA: [{'a': 'A', 'b': (2, 4), 'c': 3.0}]\n",
      "NORMAL: [{\"a\": \"A\", \"b\": [2, 4], \"c\": 3.0}]\n",
      "INDENT: [\n",
      "  {\n",
      "    \"a\": \"A\",\n",
      "    \"b\": [\n",
      "      2,\n",
      "      4\n",
      "    ],\n",
      "    \"c\": 3.0\n",
      "  }\n",
      "]\n"
     ]
    }
   ],
   "source": [
    "import json\n",
    "\n",
    "data = [{'a': 'A', 'b': (2, 4), 'c': 3.0}]\n",
    "print('DATA:', repr(data))\n",
    "\n",
    "print('NORMAL:', json.dumps(data, sort_keys=True))\n",
    "print('INDENT:', json.dumps(data, sort_keys=True, indent=2))"
   ]
  },
  {
   "cell_type": "markdown",
   "metadata": {},
   "source": [
    "> 详细的输出会增加生产环境中传输所需字节数，可以调整编码输出中分隔数据的设置，使其比默认格式更紧凑。"
   ]
  },
  {
   "cell_type": "code",
   "execution_count": 7,
   "metadata": {},
   "outputs": [
    {
     "name": "stdout",
     "output_type": "stream",
     "text": [
      "DATA: [{'a': 'A', 'b': (2, 4), 'c': 3.0}]\n",
      "repr(data)             : 35\n",
      "dumps(data)            : 35\n",
      "dumps(data, indent=2)  : 73\n",
      "dumps(data, separators): 29\n",
      "[{\"a\":\"A\",\"b\":[2,4],\"c\":3.0}]\n"
     ]
    }
   ],
   "source": [
    "import json\n",
    "\n",
    "data = [{'a': 'A', 'b': (2, 4), 'c': 3.0}]\n",
    "print('DATA:', repr(data))\n",
    "\n",
    "print('repr(data)             :', len(repr(data)))\n",
    "\n",
    "plain_dump = json.dumps(data)\n",
    "print('dumps(data)            :', len(plain_dump))\n",
    "\n",
    "small_indent = json.dumps(data, indent=2)\n",
    "print('dumps(data, indent=2)  :', len(small_indent))\n",
    "\n",
    "with_separators = json.dumps(data, separators=(',', ':'))\n",
    "print('dumps(data, separators):', len(with_separators))\n",
    "print(json.dumps(data, separators=(',', ':')))"
   ]
  },
  {
   "cell_type": "markdown",
   "metadata": {},
   "source": [
    "### 编码字典\n",
    "> json要求字典的key必须是字符串，若一个字典以非串类型作为键，对这个字典编码时，会抛出异常。可使用skipkeys参数来跳过非串的键。"
   ]
  },
  {
   "cell_type": "code",
   "execution_count": 8,
   "metadata": {},
   "outputs": [
    {
     "name": "stdout",
     "output_type": "stream",
     "text": [
      "First attempt\n",
      "ERROR: keys must be a string\n",
      "\n",
      "Second attempt\n",
      "[{\"a\": \"A\", \"b\": [2, 4], \"c\": 3.0}]\n"
     ]
    }
   ],
   "source": [
    "import json\n",
    "\n",
    "data = [{'a': 'A', 'b': (2, 4), 'c': 3.0, ('d',): 'D tuple'}]\n",
    "\n",
    "print('First attempt')\n",
    "try:\n",
    "    print(json.dumps(data))\n",
    "except TypeError as err:\n",
    "    print('ERROR:', err)\n",
    "\n",
    "print()\n",
    "print('Second attempt')\n",
    "print(json.dumps(data, skipkeys=True))"
   ]
  },
  {
   "cell_type": "markdown",
   "metadata": {},
   "source": [
    "### 处理定制类型\n",
    "> 当需要对Python内置类型以外的定制类编码，有两种方法处理，[json](https://pymotw.com/3/json/index.html)"
   ]
  },
  {
   "cell_type": "markdown",
   "metadata": {},
   "source": [
    "### 编码器和解码器类"
   ]
  },
  {
   "cell_type": "markdown",
   "metadata": {},
   "source": [
    "### 处理流和文件"
   ]
  },
  {
   "cell_type": "markdown",
   "metadata": {},
   "source": [
    "### 混合数据流"
   ]
  }
 ],
 "metadata": {
  "kernelspec": {
   "display_name": "Python 3",
   "language": "python",
   "name": "python3"
  },
  "language_info": {
   "codemirror_mode": {
    "name": "ipython",
    "version": 3
   },
   "file_extension": ".py",
   "mimetype": "text/x-python",
   "name": "python",
   "nbconvert_exporter": "python",
   "pygments_lexer": "ipython3",
   "version": "3.5.2"
  }
 },
 "nbformat": 4,
 "nbformat_minor": 2
}
