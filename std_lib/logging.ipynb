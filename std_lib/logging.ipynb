{
 "cells": [
  {
   "cell_type": "markdown",
   "metadata": {},
   "source": [
    "## logging模块\n",
    "> **报告状态、错误和信息消息  **\n",
    "\n",
    "> 由标准库提供日志API好处：所有python模块都可以参与日志记录，可以包括第三方模块的消息。"
   ]
  },
  {
   "cell_type": "markdown",
   "metadata": {},
   "source": [
    "### 日志存储到文件\n",
    "> 使用basicConfig()函数建立默认处理器，从而将调试消息写入一个文件"
   ]
  },
  {
   "cell_type": "code",
   "execution_count": null,
   "metadata": {},
   "outputs": [],
   "source": [
    "import logging\n",
    "LOG_FILENAME = 'logging_example.out'\n",
    "logging.basicConfig(\n",
    "    filename = LOG_FILENAME,\n",
    "    level = logging.DEBUG,\n",
    ")\n",
    "\n",
    "logging.debug('This mesage should go to the log file')\n",
    "\n",
    "with open(LOG_FILENAME, 'rt') as f:\n",
    "    body = f.read()\n",
    "    \n",
    "print('FILE:')\n",
    "print(body)"
   ]
  },
  {
   "cell_type": "markdown",
   "metadata": {},
   "source": [
    "### 旋转日志文件\n",
    "> RotatingFileHandler,它会自动创建新的日志文件，同时保留原来的日志文件。"
   ]
  },
  {
   "cell_type": "code",
   "execution_count": null,
   "metadata": {},
   "outputs": [],
   "source": [
    "import glob\n",
    "import logging\n",
    "import logging.handlers\n",
    "\n",
    "LOG_FILENAME = 'logging_rotatingfile_example.out'\n",
    "\n",
    "# 以我们的需要的输出级别设置记录器\n",
    "my_logger = logging.getLogger('MyLogger')\n",
    "my_logger.setLevel(logging.DEBUG)\n",
    "\n",
    "# 给记录器添加日志消息句柄\n",
    "handler = logging.handlers.RotatingFileHandler(\n",
    "    LOG_FILENAME,\n",
    "    maxBytes=20,\n",
    "    backupCount=5,\n",
    ")\n",
    "my_logger.addHandler(handler)\n",
    "\n",
    "# 记录一些消息\n",
    "for i in range(20):\n",
    "    my_logger.debug('i = %d' % i)\n",
    "    \n",
    "# See what files are created\n",
    "logfiles = glob.glob('%s*' % LOG_FILENAME)\n",
    "for filename in sorted(logfiles):\n",
    "    print(filename)"
   ]
  },
  {
   "cell_type": "markdown",
   "metadata": {},
   "source": [
    "### 日志级别\n",
    "\n",
    "| 级别    | 值  |\n",
    "| ---    | ---|\n",
    "| CRITICAL |50  |\n",
    "|ERROR\t|40|\n",
    "|WARNING|\t30|\n",
    "|INFO\t|20|\n",
    "|DEBUG\t|10|\n",
    "|UNSET|\t0|"
   ]
  },
  {
   "cell_type": "code",
   "execution_count": 1,
   "metadata": {},
   "outputs": [
    {
     "name": "stderr",
     "output_type": "stream",
     "text": [
      "WARNING:root:This is a warning message\n",
      "ERROR:root:This is an error message\n",
      "CRITICAL:root:This is a critical error message\n"
     ]
    }
   ],
   "source": [
    "import logging\n",
    "\n",
    "LEVELS = {\n",
    "    'debug': logging.DEBUG,\n",
    "    'info': logging.INFO,\n",
    "    'warning': logging.WARNING,\n",
    "    'error': logging.ERROR,\n",
    "    'critical': logging.CRITICAL,\n",
    "}\n",
    "\n",
    "level = LEVELS.get('warning', logging.NOTSET)\n",
    "logging.basicConfig(level=level)\n",
    "\n",
    "logging.debug('This is a debug message')\n",
    "logging.info('This is an info message')\n",
    "logging.warning('This is a warning message')\n",
    "logging.error('This is an error message')\n",
    "logging.critical('This is a critical error message')"
   ]
  },
  {
   "cell_type": "markdown",
   "metadata": {},
   "source": [
    "### 命名日记记录器实例\n",
    "> 可以指出特定的日志消息来自哪里,针对不同模块日志区分处理"
   ]
  },
  {
   "cell_type": "code",
   "execution_count": null,
   "metadata": {},
   "outputs": [],
   "source": [
    "import logging\n",
    "\n",
    "logging.basicConfig(level=logging.WARNING)\n",
    "\n",
    "logger1 = logging.getLogger('package1.module1')\n",
    "logger2 = logging.getLogger('package2.module2')\n",
    "\n",
    "logger1.warning('This message comes from one module')\n",
    "logger2.warning('This comes from another module')"
   ]
  },
  {
   "cell_type": "markdown",
   "metadata": {},
   "source": [
    "### 记录树\n",
    "> 基于记录器的命名，Logger 实例被配置为树结构。根记录器没有名字。\n",
    "\n",
    "> 树结构如下图：\n",
    "\n",
    "![](https://pymotw.com/3/_images/graphviz-f086611b63ec1c50f11316f55fd652693db5cfab.png)\n"
   ]
  },
  {
   "cell_type": "markdown",
   "metadata": {},
   "source": [
    "> 树结构用来配置记录器，这样每个记录器不需要自己的句柄，如果一个记录器没有句柄，消息就被传递给它的父亲节点处理。\n",
    "  \n",
    "> 这意味着对大多数应用，只需要配置根记录器的句柄，然后所有的消息都被根记录器收集后，送到相应的位置。\n",
    "\n",
    "![一个日志句柄](https://pymotw.com/3/_images/graphviz-d77272b7e2e71cf6e23b7ca0d4457fa984f522ff.png)\n",
    "\n",
    "> 树结构还允许不同分支上设立不同的日志等级。\n",
    "\n",
    "\n",
    "![](https://pymotw.com/3/_images/graphviz-7beb865f5cf56bb8a2077aee42ac39c4b930439d.png)\n",
    "\n"
   ]
  },
  {
   "cell_type": "markdown",
   "metadata": {},
   "source": [
    "### 和warnings模块集成\n",
    "> logging模块通过captureWarnings()可以和warnings模块集成，来配置warnings发送消息给日志记录器，而不是直接输出。"
   ]
  },
  {
   "cell_type": "code",
   "execution_count": null,
   "metadata": {},
   "outputs": [],
   "source": [
    "import logging\n",
    "import warnings\n",
    "\n",
    "logging.basicConfig(\n",
    "    level=logging.INFO,\n",
    ")\n",
    "\n",
    "warnings.warn('This warning is not sent to the logs')\n",
    "\n",
    "logging.captureWarnings(True)\n",
    "\n",
    "warnings.warn('This warning is sent to the logs')"
   ]
  }
 ],
 "metadata": {
  "kernelspec": {
   "display_name": "Python 3",
   "language": "python",
   "name": "python3"
  },
  "language_info": {
   "codemirror_mode": {
    "name": "ipython",
    "version": 3
   },
   "file_extension": ".py",
   "mimetype": "text/x-python",
   "name": "python",
   "nbconvert_exporter": "python",
   "pygments_lexer": "ipython3",
   "version": "3.5.2"
  }
 },
 "nbformat": 4,
 "nbformat_minor": 2
}
