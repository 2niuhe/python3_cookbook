{
 "cells": [
  {
   "cell_type": "markdown",
   "metadata": {},
   "source": [
    "## unittest 自动化测试框架\n",
    "### 基本测试结构\n",
    "> 单元测试包含两个部分：管理依赖关系、管理测试本身\n",
    "单元测试类图：\n",
    "\n",
    "![](https://images0.cnblogs.com/i/236038/201404/230040440455234.png)"
   ]
  },
  {
   "cell_type": "code",
   "execution_count": 1,
   "metadata": {},
   "outputs": [],
   "source": [
    "# temp.py\n",
    "import unittest\n",
    "\n",
    "class SimpleisticTest(unittest.TestCase):\n",
    "    \n",
    "    def test(self):\n",
    "        a = 'a'\n",
    "        b = 'b'\n",
    "        self.assertEqual(a,b)"
   ]
  },
  {
   "cell_type": "markdown",
   "metadata": {},
   "source": [
    "### 运行测试\n",
    "> **最简单的运行测试的方法是通过命令行界面**\n",
    "\n",
    "```bash\n",
    "ubuntu@VM-64-223-ubuntu:~/PylibNote$ python3 -m unittest temp.py \n",
    ".\n",
    "----------------------------------------------------------------------\n",
    "Ran 1 test in 0.002s\n",
    "\n",
    "OK\n",
    "ubuntu@VM-64-223-ubuntu:~/PylibNote$ python3 -m unittest -v temp.py \n",
    "test (temp.SimpleisticTest) ... ok\n",
    "\n",
    "----------------------------------------------------------------------\n",
    "Ran 1 test in 0.000s\n",
    "\n",
    "OK\n",
    "```\n",
    "> ** -v表示输出测试结果的细节 **\n"
   ]
  },
  {
   "cell_type": "markdown",
   "metadata": {},
   "source": [
    "### 测试结果\n",
    "> 测试可能有三种结果：  \n",
    "\n",
    "- ok 测试通过\n",
    "- FAIL 测试未通过，并抛出AssertionError异常\n",
    "- ERROR 测试抛出AssertionError以外的其他异常\n",
    "\n",
    "> 无法明确指定一个测试是否pass，测试状态只取决于异常的absense/presense"
   ]
  },
  {
   "cell_type": "code",
   "execution_count": null,
   "metadata": {},
   "outputs": [],
   "source": [
    "# unittest_outcomes.py\n",
    "\n",
    "import unittest\n",
    "\n",
    "class OutcomesTest(unittest.TestCase):\n",
    "    \n",
    "    def testPass(self):\n",
    "        return\n",
    "    \n",
    "    def testFail(self):\n",
    "        self.assertFalse(True)\n",
    "        \n",
    "    def testError(self):\n",
    "        raise RuntimeError('Test error')"
   ]
  },
  {
   "cell_type": "markdown",
   "metadata": {},
   "source": [
    "> 为了让测试失败的原因更清晰，fail*()和assert*()方法都接收一个参数msg，可以产生更细致的错误消息"
   ]
  },
  {
   "cell_type": "code",
   "execution_count": null,
   "metadata": {},
   "outputs": [],
   "source": [
    "import unittest\n",
    "\n",
    "\n",
    "class FailureMessageTest(unittest.TestCase):\n",
    "    \n",
    "    def testFail(self):\n",
    "        self.assertFalse(True, 'failure message goes here')"
   ]
  },
  {
   "cell_type": "markdown",
   "metadata": {},
   "source": [
    "### 断言T/F\n",
    "> 根据测试者的需求，有两种不同的方法写测试断言，来断言一个条件的真实性。"
   ]
  },
  {
   "cell_type": "code",
   "execution_count": 2,
   "metadata": {},
   "outputs": [],
   "source": [
    "import unittest\n",
    "\n",
    "class TruthTest(unittest.TestCase):\n",
    "    \n",
    "    def testAssertTrue(self):\n",
    "        self.assertTrue(True)\n",
    "        \n",
    "    def testAssertFalse(self):\n",
    "        self.assertFalse(False)\n",
    "        "
   ]
  },
  {
   "cell_type": "markdown",
   "metadata": {},
   "source": [
    "> 运行结果：  \n",
    "\n",
    "```bash\n",
    "\n",
    "testAssertFalse (temp2.TruthTest) ... ok\n",
    "testAssertTrue (temp2.TruthTest) ... ok\n",
    "\n",
    "----------------------------------------------------------------------\n",
    "Ran 2 tests in 0.001s\n",
    "\n",
    "OK\n",
    "\n",
    "```"
   ]
  },
  {
   "cell_type": "markdown",
   "metadata": {},
   "source": [
    "### 测试相等\n",
    "> 一种特殊案例是，单元测试包含了一个方法来测试两个值的相等性。"
   ]
  },
  {
   "cell_type": "code",
   "execution_count": 3,
   "metadata": {},
   "outputs": [],
   "source": [
    "import unittest\n",
    "\n",
    "class EqualityTest(unittest.TestCase):\n",
    "    \n",
    "    def testExpectEqual(self):\n",
    "        self.assertEqual(1,3-2)\n",
    "        \n",
    "    def testExpectEqualFails(self):\n",
    "        self.assertEqual(2, 3 - 2)\n",
    "\n",
    "    def testExpectNotEqual(self):\n",
    "        self.assertNotEqual(2, 3 - 2)\n",
    "\n",
    "    def testExpectNotEqualFails(self):\n",
    "        self.assertNotEqual(1, 3 - 2)"
   ]
  },
  {
   "cell_type": "markdown",
   "metadata": {},
   "source": [
    "### 近似相等？\n",
    "> 除了严格意义上的相等，也可以通过assertAlmostEqual()和assertNotAlmostEqual()测试两个浮点数之间的近似相等。  \n",
    "包括两个参数：\n",
    "\n",
    "- 用于比较的两个数\n",
    "- 用于比较的小数位数"
   ]
  },
  {
   "cell_type": "code",
   "execution_count": null,
   "metadata": {},
   "outputs": [],
   "source": [
    "import unittest\n",
    "\n",
    "\n",
    "class AlmostEqualTest(unittest.TestCase):\n",
    "\n",
    "    def testEqual(self):\n",
    "        self.assertEqual(1.1, 3.3 - 2.2)\n",
    "\n",
    "    def testAlmostEqual(self):\n",
    "        self.assertAlmostEqual(1.1, 3.3 - 2.2, places=1)\n",
    "\n",
    "    def testNotAlmostEqual(self):\n",
    "        self.assertNotAlmostEqual(1.1, 3.3 - 2.0, places=1)"
   ]
  },
  {
   "cell_type": "markdown",
   "metadata": {},
   "source": [
    "## 容器\n",
    "> 除了通用的assertEqual()和assertNotEqual(),还有特殊的方法来比较两个容器，如(dict,list,set)"
   ]
  },
  {
   "cell_type": "code",
   "execution_count": null,
   "metadata": {},
   "outputs": [],
   "source": [
    "import textwrap\n",
    "import unittest\n",
    "\n",
    "\n",
    "class ContainerEqualityTest(unittest.TestCase):\n",
    "\n",
    "    def testCount(self):\n",
    "        self.assertCountEqual(\n",
    "            [1, 2, 3, 2],\n",
    "            [1, 3, 2, 3],\n",
    "        )\n",
    "\n",
    "    def testDict(self):\n",
    "        self.assertDictEqual(\n",
    "            {'a': 1, 'b': 2},\n",
    "            {'a': 1, 'b': 3},\n",
    "        )\n",
    "\n",
    "    def testList(self):\n",
    "        self.assertListEqual(\n",
    "            [1, 2, 3],\n",
    "            [1, 3, 2],\n",
    "        )\n",
    "\n",
    "    def testMultiLineString(self):\n",
    "        self.assertMultiLineEqual(\n",
    "            textwrap.dedent(\"\"\"\n",
    "            This string\n",
    "            has more than one\n",
    "            line.\n",
    "            \"\"\"),\n",
    "            textwrap.dedent(\"\"\"\n",
    "            This string has\n",
    "            more than two\n",
    "            lines.\n",
    "            \"\"\"),\n",
    "        )\n",
    "\n",
    "    def testSequence(self):\n",
    "        self.assertSequenceEqual(\n",
    "            [1, 2, 3],\n",
    "            [1, 3, 2],\n",
    "        )\n",
    "\n",
    "    def testSet(self):\n",
    "        self.assertSetEqual(\n",
    "            set([1, 2, 3]),\n",
    "            set([1, 3, 2, 4]),\n",
    "        )\n",
    "\n",
    "    def testTuple(self):\n",
    "        self.assertTupleEqual(\n",
    "            (1, 'a'),\n",
    "            (1, 'b'),\n",
    "        )"
   ]
  },
  {
   "cell_type": "markdown",
   "metadata": {},
   "source": [
    "> 使用assertIn()来测试容器成员  \n",
    "\n",
    "> 任何支持__in__操作符或者container的对象都可以使用assertIn()"
   ]
  },
  {
   "cell_type": "code",
   "execution_count": null,
   "metadata": {},
   "outputs": [],
   "source": [
    "import unittest\n",
    "\n",
    "\n",
    "class ContainerMembershipTest(unittest.TestCase):\n",
    "\n",
    "    def testDict(self):\n",
    "        self.assertIn(4, {1: 'a', 2: 'b', 3: 'c'})\n",
    "\n",
    "    def testList(self):\n",
    "        self.assertIn(4, [1, 2, 3])\n",
    "\n",
    "    def testSet(self):\n",
    "        self.assertIn(4, set([1, 2, 3]))"
   ]
  },
  {
   "cell_type": "markdown",
   "metadata": {},
   "source": [
    "### 测试异常\n",
    "> 如上所述，如果测试抛出AssertionError以外的异常，把它作为Error处理。对与处理测试中未覆盖的异常，这很有用。然而，在某些环境中，需要对测试中一些异常做特殊处理。相比如捕获异常，assertRaises()使得测试代码更清晰。比较如下两个案例："
   ]
  },
  {
   "cell_type": "code",
   "execution_count": null,
   "metadata": {},
   "outputs": [],
   "source": [
    "import unittest\n",
    "\n",
    "\n",
    "def raises_error(*args, **kwds):\n",
    "    raise ValueError('Invalid value: ' + str(args) + str(kwds))\n",
    "\n",
    "\n",
    "class ExceptionTest(unittest.TestCase):\n",
    "\n",
    "    def testTrapLocally(self):\n",
    "        try:\n",
    "            raises_error('a', b='c')\n",
    "        except ValueError:\n",
    "            pass\n",
    "        else:\n",
    "            self.fail('Did not see ValueError')\n",
    "\n",
    "    def testAssertRaises(self):\n",
    "        self.assertRaises(\n",
    "            ValueError,\n",
    "            raises_error,\n",
    "            'a',\n",
    "            b='c',\n",
    "        )"
   ]
  },
  {
   "cell_type": "markdown",
   "metadata": {},
   "source": [
    "> 两个测试结果是相同的，但是第二个测试使用了assertRaises()更加简洁。"
   ]
  },
  {
   "cell_type": "markdown",
   "metadata": {},
   "source": [
    "### 测试装置\n",
    "Fixtures是对一个测试用例环境的搭建和销毁的过程\n",
    "\n",
    "> 夹具是测试所需的外部资源。 例如，一个类的测试可能都需要提供配置设置或其他共享资源的另一个类的实例。 其他测试装置包括数据库连接和临时文件（许多人会认为使用外部资源使得这些测试不是“单元”测试，但它们仍然是测试并且仍然有用）。\n",
    "\n",
    "> unittest包含特殊的钩子来配置和清理测试所需的外部资源。 要为每个单独的测试用例建立外部资源，请重写TestCase上的setUp()方法。 要清理它们，请重写tearDown()方法。 要为测试类的所有实例管理一组外部资源，请为TestCase重写类方法setUpClass()和tearDownClass()。要处理模块中所有测试的外部资源，请使用模块级函数setUpModule（）和tearDownModule（）。"
   ]
  },
  {
   "cell_type": "code",
   "execution_count": null,
   "metadata": {},
   "outputs": [],
   "source": [
    "import random\n",
    "import unittest\n",
    "\n",
    "\n",
    "def setUpModule():\n",
    "    print('In setUpModule()')\n",
    "\n",
    "\n",
    "def tearDownModule():\n",
    "    print('In tearDownModule()')\n",
    "\n",
    "\n",
    "class FixturesTest(unittest.TestCase):\n",
    "\n",
    "    @classmethod\n",
    "    def setUpClass(cls):\n",
    "        print('In setUpClass()')\n",
    "        cls.good_range = range(1, 10)\n",
    "\n",
    "    @classmethod\n",
    "    def tearDownClass(cls):\n",
    "        print('In tearDownClass()')\n",
    "        del cls.good_range\n",
    "\n",
    "    def setUp(self):\n",
    "        super().setUp()\n",
    "        print('\\nIn setUp()')\n",
    "        # Pick a number sure to be in the range. The range is\n",
    "        # defined as not including the \"stop\" value, so make\n",
    "        # sure it is not included in the set of allowed values\n",
    "        # for our choice.\n",
    "        self.value = random.randint(\n",
    "            self.good_range.start,\n",
    "            self.good_range.stop - 1,\n",
    "        )\n",
    "\n",
    "    def tearDown(self):\n",
    "        print('In tearDown()')\n",
    "        del self.value\n",
    "        super().tearDown()\n",
    "\n",
    "    def test1(self):\n",
    "        print('In test1()')\n",
    "        self.assertIn(self.value, self.good_range)\n",
    "\n",
    "    def test2(self):\n",
    "        print('In test2()')\n",
    "        self.assertIn(self.value, self.good_range)"
   ]
  },
  {
   "cell_type": "markdown",
   "metadata": {},
   "source": [
    "> 运行结果：\n",
    "\n",
    "```\n",
    "In setUpModule()\n",
    "In setUpClass()\n",
    "test1 (temp4.FixturesTest) ... \n",
    "In setUp()\n",
    "In test1()\n",
    "In tearDown()\n",
    "ok\n",
    "test2 (temp4.FixturesTest) ... \n",
    "In setUp()\n",
    "In test2()\n",
    "In tearDown()\n",
    "ok\n",
    "In tearDownClass()\n",
    "In tearDownModule()\n",
    "\n",
    "----------------------------------------------------------------------\n",
    "Ran 2 tests in 0.004s\n",
    "\n",
    "OK\n",
    "```"
   ]
  },
  {
   "cell_type": "markdown",
   "metadata": {},
   "source": [
    "> 当清理Fixtures时出错，tearDown()方法不一定会被调用。可以使用addCleanup()来确保Fixtures被正确释放。"
   ]
  },
  {
   "cell_type": "code",
   "execution_count": null,
   "metadata": {},
   "outputs": [],
   "source": [
    "import random\n",
    "import shutil\n",
    "import tempfile\n",
    "import unittest\n",
    "\n",
    "\n",
    "def remove_tmpdir(dirname):\n",
    "    print('In remove_tmpdir()')\n",
    "    shutil.rmtree(dirname)\n",
    "\n",
    "\n",
    "class FixturesTest(unittest.TestCase):\n",
    "\n",
    "    def setUp(self):\n",
    "        super().setUp()\n",
    "        self.tmpdir = tempfile.mkdtemp()\n",
    "        self.addCleanup(remove_tmpdir, self.tmpdir)\n",
    "\n",
    "    def test1(self):\n",
    "        print('\\nIn test1()')\n",
    "\n",
    "    def test2(self):\n",
    "        print('\\nIn test2()')"
   ]
  },
  {
   "cell_type": "markdown",
   "metadata": {},
   "source": [
    "> 例子创建了一个临时目录，当测试完成，然后使用shutil清理掉"
   ]
  },
  {
   "cell_type": "markdown",
   "metadata": {},
   "source": [
    "### 以不同的输入重复测试\n",
    "> 使用相同测试逻辑测试不同输入很常用。 与其为每个小案例定义单独的测试方法，一个常见的方法是使用一个包含几个相关断言调用的测试方法。 这种方法的问题是，只要一个断言失败，其余的就会被跳过。 更好的解决方案是使用subTest（）为测试方法中的测试创建上下文。 如果测试失败，则报告失败并继续进行其余的测试。"
   ]
  },
  {
   "cell_type": "code",
   "execution_count": 5,
   "metadata": {},
   "outputs": [],
   "source": [
    "import unittest\n",
    "\n",
    "\n",
    "class SubTest(unittest.TestCase):\n",
    "\n",
    "    def test_combined(self):\n",
    "        self.assertRegex('abc', 'a')\n",
    "        self.assertRegex('abc', 'B')\n",
    "        # The next assertions are not verified!\n",
    "        self.assertRegex('abc', 'c')\n",
    "        self.assertRegex('abc', 'd')\n",
    "\n",
    "    def test_with_subtest(self):\n",
    "        for pat in ['a', 'B', 'c', 'd']:\n",
    "            with self.subTest(pattern=pat):\n",
    "                self.assertRegex('abc', pat)"
   ]
  },
  {
   "cell_type": "markdown",
   "metadata": {},
   "source": [
    "> 上例中，test_combined() 方法不会对'c'和'd'执行测试，而test_with_subtest()，会测试所有测试用例。注意test runner只认为有两个测试案例。"
   ]
  },
  {
   "cell_type": "markdown",
   "metadata": {},
   "source": [
    "## 跳过测试\n",
    "> 如果不符合某些外部条件，能够跳过测试通常很有用。 例如，当编写测试来检查特定版本的Python下的库的行为时，没有理由在其他版本的Python下运行这些测试。 测试类和方法可以使用skip（）进行修饰，以便始终跳过测试。 装饰skipIf（）和skipUnless（）可用于在跳过之前检查条件。"
   ]
  },
  {
   "cell_type": "code",
   "execution_count": 6,
   "metadata": {},
   "outputs": [],
   "source": [
    "import sys\n",
    "import unittest\n",
    "\n",
    "\n",
    "class SkippingTest(unittest.TestCase):\n",
    "\n",
    "    @unittest.skip('always skipped')\n",
    "    def test(self):\n",
    "        self.assertTrue(False)\n",
    "\n",
    "    @unittest.skipIf(sys.version_info[0] > 2,\n",
    "                     'only runs on python 2')\n",
    "    def test_python2_only(self):\n",
    "        self.assertTrue(False)\n",
    "\n",
    "    @unittest.skipUnless(sys.platform == 'Darwin',\n",
    "                         'only runs on macOS')\n",
    "    def test_macos_only(self):\n",
    "        self.assertTrue(True)\n",
    "\n",
    "    def test_raise_skiptest(self):\n",
    "        raise unittest.SkipTest('skipping via exception')\n"
   ]
  },
  {
   "cell_type": "markdown",
   "metadata": {},
   "source": [
    "> 对于难以在单个表达式中传递给skipIf（）或skipUnless（）的复杂条件，测试用例可能会直接引发SkipTest以使测试被跳过。"
   ]
  },
  {
   "cell_type": "markdown",
   "metadata": {},
   "source": [
    "### 忽略失败测试\n",
    "> 与其删除预计会失败的测试用例，不如使用expectedFailure()装饰，该失败就会被忽略。\n",
    "\n",
    "\n",
    "> 如果一项预计会失败的测试事实上已经通过，那么该条件将被视为一种特殊的失败并报告为“意想不到的成功”。"
   ]
  },
  {
   "cell_type": "code",
   "execution_count": null,
   "metadata": {},
   "outputs": [],
   "source": [
    "import unittest\n",
    "\n",
    "\n",
    "class Test(unittest.TestCase):\n",
    "\n",
    "    @unittest.expectedFailure\n",
    "    def test_never_passes(self):\n",
    "        self.assertTrue(False)\n",
    "\n",
    "    @unittest.expectedFailure\n",
    "    def test_always_passes(self):\n",
    "        self.assertTrue(True)"
   ]
  }
 ],
 "metadata": {
  "kernelspec": {
   "display_name": "Python 3",
   "language": "python",
   "name": "python3"
  },
  "language_info": {
   "codemirror_mode": {
    "name": "ipython",
    "version": 3
   },
   "file_extension": ".py",
   "mimetype": "text/x-python",
   "name": "python",
   "nbconvert_exporter": "python",
   "pygments_lexer": "ipython3",
   "version": "3.5.2"
  }
 },
 "nbformat": 4,
 "nbformat_minor": 2
}
