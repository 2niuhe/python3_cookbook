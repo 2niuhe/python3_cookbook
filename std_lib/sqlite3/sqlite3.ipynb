{
 "cells": [
  {
   "cell_type": "markdown",
   "metadata": {},
   "source": [
    "### Install Sqlite3\n",
    "\n",
    "```shell\n",
    "sudo apt-get install sqlite3 sqlite3-doc\n",
    "# Optional\n",
    "sudo apt install sqlitebrowser\n",
    "```"
   ]
  },
  {
   "cell_type": "markdown",
   "metadata": {},
   "source": [
    "### Create Database"
   ]
  },
  {
   "cell_type": "code",
   "execution_count": 1,
   "metadata": {},
   "outputs": [
    {
     "name": "stdout",
     "output_type": "stream",
     "text": [
      "Database exists,assume schema does,too.\n"
     ]
    }
   ],
   "source": [
    "# sqlite3_createdb.py\n",
    "import os\n",
    "import sqlite3\n",
    "db_filename=\"todo.db\"\n",
    "db_is_new = not os.path.exists(db_filename)\n",
    "\n",
    "conn = sqlite3.connect(db_filename)\n",
    "\n",
    "if db_is_new:\n",
    "    print(\"Need to create schema\")\n",
    "else:\n",
    "    print(\"Database exists,assume schema does,too.\")\n",
    "    \n",
    "conn.close()"
   ]
  },
  {
   "cell_type": "markdown",
   "metadata": {},
   "source": [
    "### Initial Database With Schema File"
   ]
  },
  {
   "cell_type": "code",
   "execution_count": 5,
   "metadata": {},
   "outputs": [
    {
     "name": "stdout",
     "output_type": "stream",
     "text": [
      "Create schema\n",
      "Inserting initial data\n"
     ]
    }
   ],
   "source": [
    "# sqlite3_create_schema.py\n",
    "# create schema with todo_schema.sql\n",
    "import os\n",
    "import sqlite3\n",
    "\n",
    "db_filename = \"todo.db\"\n",
    "schema_filename = \"todo_schema.sql\"\n",
    "\n",
    "db_is_new = not os.path.exists(db_filename)\n",
    "\n",
    "with sqlite3.connect(db_filename) as conn:\n",
    "    if db_is_new:\n",
    "        print(\"Create schema\")\n",
    "        with open(schema_filename,'rt') as f:\n",
    "            schema = f.read()\n",
    "        conn.executescript(schema)\n",
    "        \n",
    "        print(\"Inserting initial data\")\n",
    "        \n",
    "        conn.executescript(\"\"\"\n",
    "        insert into project (name, description, deadline)\n",
    "        values ('pymotw', 'Python Module of the Week',\n",
    "                '2016-11-01');\n",
    "\n",
    "        insert into task (details, status, deadline, project)\n",
    "        values ('write about select', 'done', '2016-04-25',\n",
    "                'pymotw');\n",
    "\n",
    "        insert into task (details, status, deadline, project)\n",
    "        values ('write about random', 'waiting', '2016-08-22',\n",
    "                'pymotw');\n",
    "\n",
    "        insert into task (details, status, deadline, project)\n",
    "        values ('write about sqlite3', 'active', '2017-07-31',\n",
    "                'pymotw');\n",
    "        \"\"\"\n",
    "        )\n",
    "    else:\n",
    "        print(\"Database exists,assume schema does,too.\")"
   ]
  },
  {
   "cell_type": "code",
   "execution_count": 7,
   "metadata": {},
   "outputs": [
    {
     "name": "stdout",
     "output_type": "stream",
     "text": [
      "1|1|write about select|done|2016-04-25||pymotw\r\n",
      "2|1|write about random|waiting|2016-08-22||pymotw\r\n",
      "3|1|write about sqlite3|active|2017-07-31||pymotw\r\n"
     ]
    }
   ],
   "source": [
    "# You can check the initial data with command\n",
    "!sqlite3 todo.db \"select * from task\""
   ]
  },
  {
   "cell_type": "markdown",
   "metadata": {},
   "source": [
    "### Retrieving Data From Database"
   ]
  },
  {
   "cell_type": "code",
   "execution_count": 8,
   "metadata": {},
   "outputs": [
    {
     "name": "stdout",
     "output_type": "stream",
     "text": [
      " 1 [1] write about select        [done    ] (2016-04-25)\n",
      " 2 [1] write about random        [waiting ] (2016-08-22)\n",
      " 3 [1] write about sqlite3       [active  ] (2017-07-31)\n"
     ]
    }
   ],
   "source": [
    "# sqlite3_select_tasks.py\n",
    "import sqlite3\n",
    "\n",
    "db_filename = 'todo.db'\n",
    "\n",
    "with sqlite3.connect(db_filename) as conn:\n",
    "    cursor = conn.cursor()\n",
    "\n",
    "    cursor.execute(\"\"\"\n",
    "    select id, priority, details, status, deadline from task\n",
    "    where project = 'pymotw'\n",
    "    \"\"\")\n",
    "\n",
    "    for row in cursor.fetchall():\n",
    "        task_id, priority, details, status, deadline = row\n",
    "        print('{:2d} [{:d}] {:<25} [{:<8}] ({})'.format(\n",
    "            task_id, priority, details, status, deadline))"
   ]
  },
  {
   "cell_type": "code",
   "execution_count": 9,
   "metadata": {},
   "outputs": [
    {
     "name": "stdout",
     "output_type": "stream",
     "text": [
      "Project details for Python Module of the Week (pymotw)\n",
      "  due 2016-11-01\n",
      "\n",
      "Next 5 tasks:\n",
      " 1 [1] write about select        [done    ] (2016-04-25)\n",
      " 2 [1] write about random        [waiting ] (2016-08-22)\n",
      " 3 [1] write about sqlite3       [active  ] (2017-07-31)\n"
     ]
    }
   ],
   "source": [
    "# sqlite3_select_variations.py\n",
    "# fetch one or specify number of items from database\n",
    "import sqlite3\n",
    "\n",
    "db_filename = 'todo.db'\n",
    "\n",
    "with sqlite3.connect(db_filename) as conn:\n",
    "    cursor = conn.cursor()\n",
    "\n",
    "    cursor.execute(\"\"\"\n",
    "    select name, description, deadline from project\n",
    "    where name = 'pymotw'\n",
    "    \"\"\")\n",
    "    name, description, deadline = cursor.fetchone()\n",
    "\n",
    "    print('Project details for {} ({})\\n  due {}'.format(\n",
    "        description, name, deadline))\n",
    "\n",
    "    cursor.execute(\"\"\"\n",
    "    select id, priority, details, status, deadline from task\n",
    "    where project = 'pymotw' order by deadline\n",
    "    \"\"\")\n",
    "\n",
    "    print('\\nNext 5 tasks:')\n",
    "    for row in cursor.fetchmany(5):\n",
    "        task_id, priority, details, status, deadline = row\n",
    "        print('{:2d} [{:d}] {:<25} [{:<8}] ({})'.format(\n",
    "            task_id, priority, details, status, deadline))"
   ]
  },
  {
   "cell_type": "markdown",
   "metadata": {},
   "source": [
    "### Query Metadata\n",
    "> After cursor.execute() has been called,the cursor should set it's description attribute to hold information about data that will be returned by the fetch methods.\n",
    "> \n",
    "> The description value is a sequence of tuples containing the colume name,tye,display size,internal size,precision,scale,and a flag says whether null value are accepted."
   ]
  },
  {
   "cell_type": "code",
   "execution_count": 10,
   "metadata": {},
   "outputs": [
    {
     "name": "stdout",
     "output_type": "stream",
     "text": [
      "Task table has these columns:\n",
      "('id', None, None, None, None, None, None)\n",
      "('priority', None, None, None, None, None, None)\n",
      "('details', None, None, None, None, None, None)\n",
      "('status', None, None, None, None, None, None)\n",
      "('deadline', None, None, None, None, None, None)\n",
      "('completed_on', None, None, None, None, None, None)\n",
      "('project', None, None, None, None, None, None)\n"
     ]
    }
   ],
   "source": [
    "# sqlite3_cursor_description.py\n",
    "import sqlite3\n",
    "\n",
    "db_filename = 'todo.db'\n",
    "\n",
    "with sqlite3.connect(db_filename) as conn:\n",
    "    cursor = conn.cursor()\n",
    "\n",
    "    cursor.execute(\"\"\"\n",
    "    select * from task where project = 'pymotw'\n",
    "    \"\"\")\n",
    "\n",
    "    print('Task table has these columns:')\n",
    "    for colinfo in cursor.description:\n",
    "        print(colinfo)"
   ]
  },
  {
   "cell_type": "markdown",
   "metadata": {},
   "source": [
    "### Row Object\n",
    "> By default ,the values returned by the fetch methods as \"rows\" from the database are tuples.The Caller is responsible for knowing the order of the columns in the query and extracting indirvidual values from the tuple.\n",
    "> \n",
    "> When the number of values in query grows,it is usually easier to work with an object and access value using their column names.Then the number and order of the tuple contents can change over time as the query is edited,and code depending on ther query results is less likely to break.\n",
    "> \n",
    "> Connection objects have a row_factory property that allows the calling code to control the type of object created to represent each row in the query result set. sqlite3 also includes a Row class intended to be used as a row factory. Column values can be accessed through Row instances by using the column index or name."
   ]
  },
  {
   "cell_type": "code",
   "execution_count": 11,
   "metadata": {},
   "outputs": [
    {
     "name": "stdout",
     "output_type": "stream",
     "text": [
      "Project details for Python Module of the Week (pymotw)\n",
      "  due 2016-11-01\n",
      "\n",
      "Next 5 tasks:\n",
      " 1 [1] write about select        [done    ] (2016-04-25)\n",
      " 2 [1] write about random        [waiting ] (2016-08-22)\n",
      " 3 [1] write about sqlite3       [active  ] (2017-07-31)\n"
     ]
    }
   ],
   "source": [
    "# sqlite3_row_factory.py\n",
    "import sqlite3\n",
    "\n",
    "db_filename = 'todo.db'\n",
    "\n",
    "with sqlite3.connect(db_filename) as conn:\n",
    "    # Change the row factory to use Row\n",
    "    conn.row_factory = sqlite3.Row\n",
    "\n",
    "    cursor = conn.cursor()\n",
    "\n",
    "    cursor.execute(\"\"\"\n",
    "    select name, description, deadline from project\n",
    "    where name = 'pymotw'\n",
    "    \"\"\")\n",
    "    name, description, deadline = cursor.fetchone()\n",
    "\n",
    "    print('Project details for {} ({})\\n  due {}'.format(\n",
    "        description, name, deadline))\n",
    "\n",
    "    cursor.execute(\"\"\"\n",
    "    select id, priority, status, deadline, details from task\n",
    "    where project = 'pymotw' order by deadline\n",
    "    \"\"\")\n",
    "\n",
    "    print('\\nNext 5 tasks:')\n",
    "    # Access the data with row[column name]\n",
    "    for row in cursor.fetchmany(5):\n",
    "        print('{:2d} [{:d}] {:<25} [{:<8}] ({})'.format(\n",
    "            row['id'], row['priority'], row['details'],\n",
    "            row['status'], row['deadline'],\n",
    "        ))"
   ]
  },
  {
   "cell_type": "markdown",
   "metadata": {},
   "source": [
    "### Query With Variables\n",
    "> SQLite supports two forms for queries with placeholders, positional and named."
   ]
  },
  {
   "cell_type": "code",
   "execution_count": 13,
   "metadata": {},
   "outputs": [
    {
     "name": "stdout",
     "output_type": "stream",
     "text": [
      " 1 [1] write about select        [done    ] (2016-04-25)\n",
      " 2 [1] write about random        [waiting ] (2016-08-22)\n",
      " 3 [1] write about sqlite3       [active  ] (2017-07-31)\n"
     ]
    }
   ],
   "source": [
    "# sqlite3_argument_positional.py\n",
    "# A question mark (?) denotes a positional argument,\n",
    "# passed to execute() as a member of a tuple.\n",
    "\n",
    "import sqlite3\n",
    "import sys\n",
    "\n",
    "db_filename = 'todo.db'\n",
    "# project_name = sys.argv[1]\n",
    "project_name = \"pymotw\"\n",
    "\n",
    "with sqlite3.connect(db_filename) as conn:\n",
    "    cursor = conn.cursor()\n",
    "\n",
    "    query = \"\"\"\n",
    "    select id, priority, details, status, deadline from task\n",
    "    where project = ?\n",
    "    \"\"\"\n",
    "\n",
    "    cursor.execute(query, (project_name,))\n",
    "\n",
    "    for row in cursor.fetchall():\n",
    "        task_id, priority, details, status, deadline = row\n",
    "        print('{:2d} [{:d}] {:<25} [{:<8}] ({})'.format(\n",
    "            task_id, priority, details, status, deadline))\n",
    "    "
   ]
  },
  {
   "cell_type": "code",
   "execution_count": 14,
   "metadata": {},
   "outputs": [
    {
     "name": "stdout",
     "output_type": "stream",
     "text": [
      " 1 [1] write about select        [done    ] (2016-04-25)\n",
      " 2 [1] write about random        [waiting ] (2016-08-22)\n",
      " 3 [1] write about sqlite3       [active  ] (2017-07-31)\n"
     ]
    }
   ],
   "source": [
    "# sqlite3_argument_named.py\n",
    "import sqlite3\n",
    "import sys\n",
    "\n",
    "db_filename = 'todo.db'\n",
    "# project_name = sys.argv[1]\n",
    "project_name = \"pymotw\"\n",
    "\n",
    "with sqlite3.connect(db_filename) as conn:\n",
    "    cursor = conn.cursor()\n",
    "\n",
    "    query = \"\"\"\n",
    "    select id, priority, details, status, deadline from task\n",
    "    where project = :project_name\n",
    "    order by deadline, priority\n",
    "    \"\"\"\n",
    "\n",
    "    cursor.execute(query, {'project_name': project_name})\n",
    "\n",
    "    for row in cursor.fetchall():\n",
    "        task_id, priority, details, status, deadline = row\n",
    "        print('{:2d} [{:d}] {:<25} [{:<8}] ({})'.format(\n",
    "            task_id, priority, details, status, deadline))"
   ]
  },
  {
   "cell_type": "code",
   "execution_count": 18,
   "metadata": {},
   "outputs": [
    {
     "name": "stdout",
     "output_type": "stream",
     "text": [
      "1|1|write about select|done|2016-04-25||pymotw\r\n",
      "2|1|write about random|done|2016-08-22||pymotw\r\n",
      "3|1|write about sqlite3|active|2017-07-31||pymotw\r\n"
     ]
    }
   ],
   "source": [
    "# sqlite3_argument_update.py\n",
    "import sqlite3\n",
    "import sys\n",
    "\n",
    "db_filename = 'todo.db'\n",
    "# id = int(sys.argv[1])\n",
    "# status = sys.argv[2]\n",
    "id = 2\n",
    "status = \"done\"\n",
    "\n",
    "with sqlite3.connect(db_filename) as conn:\n",
    "    cursor = conn.cursor()\n",
    "    query = \"update task set status = :status where id = :id\"\n",
    "    cursor.execute(query, {'status': status, 'id': id})\n",
    "\n",
    "# check updated task\n",
    "!sqlite3 todo.db \"select * from task\""
   ]
  },
  {
   "cell_type": "markdown",
   "metadata": {},
   "source": [
    "### Bulk Loading\n",
    "> To apply the same SQL instruction to a large set of data ,use executemany()."
   ]
  },
  {
   "cell_type": "code",
   "execution_count": 19,
   "metadata": {},
   "outputs": [
    {
     "name": "stdout",
     "output_type": "stream",
     "text": [
      "1|1|write about select|done|2016-04-25||pymotw\r\n",
      "2|1|write about random|done|2016-08-22||pymotw\r\n",
      "3|1|write about sqlite3|active|2017-07-31||pymotw\r\n",
      "4|2|finish reviewing markup|active|2016-11-30||pymotw\r\n",
      "5|2|revise chapter intros|active|2016-08-20||pymotw\r\n",
      "6|1|subtitle|active|2016-11-01||pymotw\r\n"
     ]
    }
   ],
   "source": [
    "# sqlite3_load_csv.py\n",
    "import csv\n",
    "import sqlite3\n",
    "import sys\n",
    "\n",
    "db_filename = 'todo.db'\n",
    "# data_filename = sys.argv[1]\n",
    "data_filename = \"data_filename.csv\"\n",
    "\n",
    "SQL = \"\"\"\n",
    "insert into task (details, priority, status, deadline, project)\n",
    "values (:details, :priority, 'active', :deadline, :project)\n",
    "\"\"\"\n",
    "\n",
    "with open(data_filename, 'rt') as csv_file:\n",
    "    csv_reader = csv.DictReader(csv_file)\n",
    "\n",
    "    with sqlite3.connect(db_filename) as conn:\n",
    "        cursor = conn.cursor()\n",
    "        cursor.executemany(SQL, csv_reader)\n",
    "        \n",
    "!sqlite3 todo.db \"select * from task\""
   ]
  },
  {
   "cell_type": "markdown",
   "metadata": {},
   "source": [
    "### Define New Column Types\n",
    "> SQLite has native support for integer, floating point, and text columns. Data of these types is converted automatically by sqlite3 from Python’s representation to a value that can be stored in the database, and back again, as needed. Integer values are loaded from the database into int or long variables, depending on the size of the value. Text is saved and retrieved as str, unless the text_factory for the Connection has been changed.\n",
    ">\n",
    "> Although SQLite only supports a few data types internally, sqlite3 includes facilities for defining custom types to allow a Python application to store any type of data in a column. Conversion for types beyond those supported by default is enabled in the database connection using the detect_types flag. Use PARSE_DECLTYPES if the column was declared using the desired type when the table was defined."
   ]
  }
 ],
 "metadata": {
  "kernelspec": {
   "display_name": "Python 3",
   "language": "python",
   "name": "python3"
  },
  "language_info": {
   "codemirror_mode": {
    "name": "ipython",
    "version": 3
   },
   "file_extension": ".py",
   "mimetype": "text/x-python",
   "name": "python",
   "nbconvert_exporter": "python",
   "pygments_lexer": "ipython3",
   "version": "3.8.2"
  }
 },
 "nbformat": 4,
 "nbformat_minor": 4
}
