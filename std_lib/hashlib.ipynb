{
 "cells": [
  {
   "cell_type": "markdown",
   "metadata": {},
   "source": [
    "hashlib模块定义了一个获取不同哈希加密算法的API，对于特定的hash算法，使用适当的构造器函数或者new()函数来创建hash对象。这些对象使用相同的api,不管使用什么算法。\n",
    "## hash算法\n",
    "> hashlib库中包含以下算法：\n",
    "- md5\n",
    "- sha1\n",
    "- sha224\n",
    "- sha256\n",
    "- sha384\n",
    "- sha512\n",
    "\n",
    "这些算法支持全平台，而另一些可以依赖底层的库。有关每个算法，分别查看algorithm_guaranteed和algorithm_available。"
   ]
  },
  {
   "cell_type": "code",
   "execution_count": 5,
   "metadata": {},
   "outputs": [
    {
     "name": "stdout",
     "output_type": "stream",
     "text": [
      "Guaranteed: md5,sha1,sha224,sha256,sha384,sha512\n",
      "\n",
      "Available: DSA,DSA-SHA,MD4,MD5,RIPEMD160,SHA,SHA1,SHA224,SHA256,SHA384,SHA512,dsaEncryption,dsaWithSHA,ecdsa-with-SHA1,md4,md5,ripemd160,sha,sha1,sha224,sha256,sha384,sha512,whirlpool\n"
     ]
    }
   ],
   "source": [
    "import hashlib\n",
    "\n",
    "print('Guaranteed: %s' % (','.join(sorted(hashlib.algorithms_guaranteed))))\n",
    "print()\n",
    "print('Available: %s' % (','.join(sorted(hashlib.algorithms_available))))"
   ]
  },
  {
   "cell_type": "markdown",
   "metadata": {},
   "source": [
    "## 样本数据\n",
    "本文所有数据都使用相同的样本数据"
   ]
  },
  {
   "cell_type": "code",
   "execution_count": 6,
   "metadata": {},
   "outputs": [],
   "source": [
    "lorem = '''Lorem ipsum dolor sit amet, consectetur adipisicing\n",
    "elit, sed do eiusmod tempor incididunt ut labore et dolore magna\n",
    "aliqua. Ut enim ad minim veniam, quis nostrud exercitation\n",
    "ullamco laboris nisi ut aliquip ex ea commodo consequat. Duis\n",
    "aute irure dolor in reprehenderit in voluptate velit esse cillum\n",
    "dolore eu fugiat nulla pariatur. Excepteur sint occaecat\n",
    "cupidatat non proident, sunt in culpa qui officia deserunt\n",
    "mollit anim id est laborum.'''"
   ]
  },
  {
   "cell_type": "markdown",
   "metadata": {},
   "source": [
    "## MD5例子\n",
    "> 为了计算MD5的哈希散列值，对于数据块（这儿是一个转换为字符串的unicode字符串），首先创建一个hash对象，然后加入数据，并计算散列值。"
   ]
  },
  {
   "cell_type": "code",
   "execution_count": 9,
   "metadata": {},
   "outputs": [
    {
     "name": "stdout",
     "output_type": "stream",
     "text": [
      "3f2fd2c9e25d60fb0fa5d593b802b7a8\n",
      "\n",
      "b'?/\\xd2\\xc9\\xe2]`\\xfb\\x0f\\xa5\\xd5\\x93\\xb8\\x02\\xb7\\xa8'\n"
     ]
    }
   ],
   "source": [
    "import hashlib\n",
    "h = hashlib.md5()\n",
    "h.update(lorem.encode('utf-8'))\n",
    "print(h.hexdigest())\n",
    "print()\n",
    "print(h.digest())"
   ]
  },
  {
   "cell_type": "markdown",
   "metadata": {},
   "source": [
    "> 案例中使用hexdiget()方法而不是digest()是因为，输出可以被格式化，并清晰的打印出来。如果可以接受二进制散列值输出，则使用digest()"
   ]
  },
  {
   "cell_type": "markdown",
   "metadata": {},
   "source": [
    "## SHA1例子\n",
    "> sha1散列值计算方式如下:"
   ]
  },
  {
   "cell_type": "code",
   "execution_count": 10,
   "metadata": {},
   "outputs": [
    {
     "name": "stdout",
     "output_type": "stream",
     "text": [
      "ea360b288b3dd178fe2625f55b2959bf1dba6eef\n"
     ]
    }
   ],
   "source": [
    "h = hashlib.sha1()\n",
    "h.update(lorem.encode('utf-8'))\n",
    "print(h.hexdigest())"
   ]
  },
  {
   "cell_type": "markdown",
   "metadata": {},
   "source": [
    "## 根据名字创建hash值\n",
    "> 有时在字符串中通过名字引用函数比使用构造函数更加方便，例如，将散列值存储在配置文件中就很有用j"
   ]
  },
  {
   "cell_type": "code",
   "execution_count": null,
   "metadata": {},
   "outputs": [],
   "source": [
    "import argparse\n",
    "import hashlib\n",
    "import sys\n",
    "\n",
    "from hashlib_data import lorem\n",
    "\n",
    "\n",
    "parser = argparse.ArgumentParser('hashlib demo')\n",
    "parser.add_argument(\n",
    "    'hash_name',\n",
    "    choices=hashlib.algorithms_available,\n",
    "    help='the name of the hash algorithm to use',\n",
    ")\n",
    "parser.add_argument(\n",
    "    'data',\n",
    "    nargs='?',\n",
    "    default=lorem,\n",
    "    help='the input data to hash, defaults to lorem ipsum',\n",
    ")\n",
    "args = parser.parse_args()\n",
    "\n",
    "h = hashlib.new(args.hash_name)\n",
    "h.update(args.data.encode('utf-8'))\n",
    "print(h.hexdigest())"
   ]
  },
  {
   "cell_type": "markdown",
   "metadata": {},
   "source": [
    "## 增量更新\n",
    "> update()函数可以重复调用。每次，散列值都根据新增的文本进行更新。相比与将所有文本都读入内存，增量更新效率更高。"
   ]
  },
  {
   "cell_type": "code",
   "execution_count": 11,
   "metadata": {},
   "outputs": [
    {
     "name": "stdout",
     "output_type": "stream",
     "text": [
      "All at once : 3f2fd2c9e25d60fb0fa5d593b802b7a8\n",
      "Line by line: 3f2fd2c9e25d60fb0fa5d593b802b7a8\n",
      "Same        : True\n"
     ]
    }
   ],
   "source": [
    "import hashlib\n",
    "\n",
    "h = hashlib.md5()\n",
    "h.update(lorem.encode('utf-8'))\n",
    "all_at_once = h.hexdigest()\n",
    "\n",
    "\n",
    "def chunkize(size, text):\n",
    "    \"Return parts of the text in size-based increments.\"\n",
    "    start = 0\n",
    "    while start < len(text):\n",
    "        chunk = text[start:start + size]\n",
    "        yield chunk\n",
    "        start += size\n",
    "    return\n",
    "\n",
    "\n",
    "h = hashlib.md5()\n",
    "for chunk in chunkize(64, lorem.encode('utf-8')):\n",
    "    h.update(chunk)\n",
    "line_by_line = h.hexdigest()\n",
    "\n",
    "print('All at once :', all_at_once)\n",
    "print('Line by line:', line_by_line)\n",
    "print('Same        :', (all_at_once == line_by_line))"
   ]
  }
 ],
 "metadata": {
  "kernelspec": {
   "display_name": "Python 3",
   "language": "python",
   "name": "python3"
  },
  "language_info": {
   "codemirror_mode": {
    "name": "ipython",
    "version": 3
   },
   "file_extension": ".py",
   "mimetype": "text/x-python",
   "name": "python",
   "nbconvert_exporter": "python",
   "pygments_lexer": "ipython3",
   "version": "3.5.2"
  }
 },
 "nbformat": 4,
 "nbformat_minor": 2
}
