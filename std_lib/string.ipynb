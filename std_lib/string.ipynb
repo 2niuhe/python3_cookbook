{
 "cells": [
  {
   "cell_type": "markdown",
   "metadata": {},
   "source": [
    "## string\n",
    "> 文本常量和模板   \n",
    "包含处理文本的常量和类"
   ]
  },
  {
   "cell_type": "markdown",
   "metadata": {},
   "source": [
    "### 函数\n",
    "- capwords() 将一个字符串所有单词首字母大写"
   ]
  },
  {
   "cell_type": "code",
   "execution_count": 1,
   "metadata": {},
   "outputs": [
    {
     "name": "stdout",
     "output_type": "stream",
     "text": [
      "The quick brown fox jumped over the lazy dog.\n",
      "The Quick Brown Fox Jumped Over The Lazy Dog.\n"
     ]
    }
   ],
   "source": [
    "import string\n",
    "\n",
    "s = 'The quick brown fox jumped over the lazy dog.'\n",
    "\n",
    "print(s)\n",
    "print(string.capwords(s))"
   ]
  },
  {
   "cell_type": "markdown",
   "metadata": {},
   "source": [
    "### 模板\n",
    "> 使用string.Template拼接时，可在变量名前边加上前缀\\$来标识变量，或者如果需要与两侧文本区分，还可以用大括号将变量括起来。如${var}"
   ]
  },
  {
   "cell_type": "code",
   "execution_count": 1,
   "metadata": {},
   "outputs": [
    {
     "name": "stdout",
     "output_type": "stream",
     "text": [
      "TEMPLATE: \n",
      "Variable        : foo\n",
      "Escape          : $\n",
      "Variable in text: fooiable\n",
      "\n",
      "INTERPOLATION: \n",
      "Variable        : foo\n",
      "Escape          : %\n",
      "Variable in text: fooiable\n",
      "\n",
      "FORMAT: \n",
      "Variable        : foo\n",
      "Escape          : {}\n",
      "Variable in text: fooiable\n",
      "\n"
     ]
    }
   ],
   "source": [
    "import string\n",
    "\n",
    "values = {'var': 'foo'}\n",
    "\n",
    "t = string.Template(\"\"\"\n",
    "Variable        : $var\n",
    "Escape          : $$\n",
    "Variable in text: ${var}iable\n",
    "\"\"\")\n",
    "\n",
    "print('TEMPLATE:', t.substitute(values))\n",
    "\n",
    "s = \"\"\"\n",
    "Variable        : %(var)s\n",
    "Escape          : %%\n",
    "Variable in text: %(var)siable\n",
    "\"\"\"\n",
    "\n",
    "print('INTERPOLATION:', s % values)\n",
    "\n",
    "s = \"\"\"\n",
    "Variable        : {var}\n",
    "Escape          : {{}}\n",
    "Variable in text: {var}iable\n",
    "\"\"\"\n",
    "\n",
    "print('FORMAT:', s.format(**values))"
   ]
  },
  {
   "cell_type": "markdown",
   "metadata": {},
   "source": [
    "> 前两个例子中，触发器字符（$或%）都要写两次来完成转义，对于正式的句法，{}也需要重复两次完成转义。   \n",
    "\n",
    "\n",
    "> 模板和字符串拼接或者formate方法的一个关键区别是：模板不考虑参数类型。值会转换成字符串，再将字符串插入到结果中。没有格式化选项，例如，没办法控制用几位小数表示浮点数值。\n",
    "\n",
    "\n",
    "> 这也有一个好处，通过使用safe_substitue()方法，可以避免未能提供模板所需全部参数值时可能产生的异常。"
   ]
  },
  {
   "cell_type": "code",
   "execution_count": 3,
   "metadata": {},
   "outputs": [
    {
     "name": "stdout",
     "output_type": "stream",
     "text": [
      "ERROR: 'missing'\n",
      "safe_substitute(): foo is here but $missing is not provided\n"
     ]
    }
   ],
   "source": [
    "import string\n",
    "\n",
    "values = {'var': 'foo'}\n",
    "\n",
    "t = string.Template(\"$var is here but $missing is not provided\")\n",
    "\n",
    "try:\n",
    "    print('substitute()     :', t.substitute(values))\n",
    "except KeyError as err:\n",
    "    print('ERROR:', str(err))\n",
    "\n",
    "print('safe_substitute():', t.safe_substitute(values))\n"
   ]
  },
  {
   "cell_type": "markdown",
   "metadata": {},
   "source": [
    "### 高级模板\n",
    "> 可以修改string.Template的默认语法，为此要调整它在模板中查找变量名的正则表达式。简单的做法是修改Template类的属性:\n",
    "\n",
    "- **delimiter** 定界符\n",
    "- **idpattern**  变量名规则"
   ]
  },
  {
   "cell_type": "code",
   "execution_count": 4,
   "metadata": {},
   "outputs": [
    {
     "name": "stdout",
     "output_type": "stream",
     "text": [
      "Modified ID pattern:\n",
      "\n",
      "  Delimiter : %\n",
      "  Replaced  : replaced\n",
      "  Ignored   : %notunderscored\n",
      "\n"
     ]
    }
   ],
   "source": [
    "import string\n",
    "\n",
    "\n",
    "class MyTemplate(string.Template):\n",
    "    delimiter = '%'\n",
    "    idpattern = '[a-z]+_[a-z]+'\n",
    "\n",
    "\n",
    "template_text = '''\n",
    "  Delimiter : %%\n",
    "  Replaced  : %with_underscore\n",
    "  Ignored   : %notunderscored\n",
    "'''\n",
    "\n",
    "d = {\n",
    "    'with_underscore': 'replaced',\n",
    "    'notunderscored': 'not replaced',\n",
    "}\n",
    "\n",
    "t = MyTemplate(template_text)\n",
    "print('Modified ID pattern:')\n",
    "print(t.safe_substitute(d))"
   ]
  },
  {
   "cell_type": "markdown",
   "metadata": {},
   "source": [
    "> 要完成更复杂的修改，可以覆盖pattern属性，定义一个全新的正则表达式，所提供的模式需包含四个命名组：\n",
    "\n",
    "- 转义定界符\n",
    "- 命名变量\n",
    "- 用大括号括住的变量名\n",
    "- 不合法的定界符模式\n",
    "\n",
    "详细内容参考https://pymotw.com/3/string/index.html"
   ]
  },
  {
   "cell_type": "markdown",
   "metadata": {},
   "source": [
    "### Formatter\n",
    "> Formatter类实现了和format()方法相同的功能，大多数情况下，format方法会更方便，但是在需要变化的情况下，Formatter提供了构建子类的一种方式。"
   ]
  },
  {
   "cell_type": "markdown",
   "metadata": {},
   "source": [
    "### Constants常量\n",
    "> 字符串模块包含许多与ASCII和数字字符集有关的常量。这些常量在使用ASCII数据时非常有用，但由于遇到某种形式的Unicode中的非ASCII文本的情况越来越普遍，因此它们的应用受到限制。"
   ]
  },
  {
   "cell_type": "code",
   "execution_count": 6,
   "metadata": {},
   "outputs": [
    {
     "name": "stdout",
     "output_type": "stream",
     "text": [
      "ascii_letters='abcdefghijklmnopqrstuvwxyzABCDEFGHIJKLMNOPQRSTUVWXYZ'\n",
      "\n",
      "ascii_lowercase='abcdefghijklmnopqrstuvwxyz'\n",
      "\n",
      "ascii_uppercase='ABCDEFGHIJKLMNOPQRSTUVWXYZ'\n",
      "\n",
      "digits='0123456789'\n",
      "\n",
      "hexdigits='0123456789abcdefABCDEF'\n",
      "\n",
      "octdigits='01234567'\n",
      "\n",
      "printable='0123456789abcdefghijklmnopqrstuvwxyzABCDEFGHIJKLMNOPQRSTUVWXYZ!\"#$%&\\'()*+,-./:;<=>?@[\\\\]^_`{|}~ \\t\\n\\r\\x0b\\x0c'\n",
      "\n",
      "punctuation='!\"#$%&\\'()*+,-./:;<=>?@[\\\\]^_`{|}~'\n",
      "\n",
      "whitespace=' \\t\\n\\r\\x0b\\x0c'\n",
      "\n"
     ]
    }
   ],
   "source": [
    "import inspect\n",
    "import string\n",
    "\n",
    "\n",
    "def is_str(value):\n",
    "    return isinstance(value, str)\n",
    "\n",
    "\n",
    "for name, value in inspect.getmembers(string, is_str):\n",
    "    if name.startswith('_'):\n",
    "        continue\n",
    "    print('%s=%r\\n' % (name, value))"
   ]
  }
 ],
 "metadata": {
  "kernelspec": {
   "display_name": "Python 3",
   "language": "python",
   "name": "python3"
  },
  "language_info": {
   "codemirror_mode": {
    "name": "ipython",
    "version": 3
   },
   "file_extension": ".py",
   "mimetype": "text/x-python",
   "name": "python",
   "nbconvert_exporter": "python",
   "pygments_lexer": "ipython3",
   "version": "3.5.2"
  }
 },
 "nbformat": 4,
 "nbformat_minor": 2
}
