{
 "cells": [
  {
   "cell_type": "markdown",
   "metadata": {},
   "source": [
    "### Time Intro\n",
    "> The time module provides access to several different types of clocks, each useful for different purposes. The standard system calls like time() report the system “wall clock” time. The monotonic() clock can be used to measure elapsed time in a long-running process because it is guaranteed never to move backwards, even if the system time is changed. For performance testing, perf_counter() provides access to the clock with the highest available resolution to make short time measurements more accurate. The CPU time is available through clock(), and process_time() returns the combined processor time and system time.\n",
    "\n",
    "- time()\n",
    "> 提供系统时间\n",
    "- monotonic()\n",
    "> 测量长时间运行的程序的经过时间\n",
    "- perf_counter()\n",
    "> 用于短时间性能测试,可供可用的分辨率最高的时间测量\n",
    "- clock()\n",
    "> CPU时间\n",
    "- process_time()\n",
    "> 特定处理器的时间\n",
    "\n",
    "**Note**\n",
    "> The implementations expose C library functions for manipulating dates and times. Since they are tied to the underlying C implementation, some details (such as the start of the epoch and maximum date value supported) are platform-specific. Refer to the library documentation for complete details."
   ]
  },
  {
   "cell_type": "markdown",
   "metadata": {},
   "source": [
    "### Compare Clocks\n",
    "> Implementation details for the clocks varies by platform. Use get_clock_info() to access basic information about the current implementation, including the clock’s resolution."
   ]
  },
  {
   "cell_type": "code",
   "execution_count": 2,
   "metadata": {
    "scrolled": true
   },
   "outputs": [
    {
     "name": "stdout",
     "output_type": "stream",
     "text": [
      "monotonic:\n",
      "    adjustable    : False\n",
      "    implementation: clock_gettime(CLOCK_MONOTONIC)\n",
      "    monotonic     : True\n",
      "    resolution    : 1e-09\n",
      "    current       : 140456.542205564\n",
      "\n",
      "perf_counter:\n",
      "    adjustable    : False\n",
      "    implementation: clock_gettime(CLOCK_MONOTONIC)\n",
      "    monotonic     : True\n",
      "    resolution    : 1e-09\n",
      "    current       : 140456.542502828\n",
      "\n",
      "process_time:\n",
      "    adjustable    : False\n",
      "    implementation: clock_gettime(CLOCK_PROCESS_CPUTIME_ID)\n",
      "    monotonic     : True\n",
      "    resolution    : 1e-09\n",
      "    current       : 0.419968712\n",
      "\n",
      "time:\n",
      "    adjustable    : True\n",
      "    implementation: clock_gettime(CLOCK_REALTIME)\n",
      "    monotonic     : False\n",
      "    resolution    : 1e-09\n",
      "    current       : 1589448532.8935058\n",
      "\n"
     ]
    }
   ],
   "source": [
    "# get clock \n",
    "import textwrap\n",
    "import time\n",
    "\n",
    "available_clocks = [\n",
    "    ('monotonic', time.monotonic),\n",
    "    ('perf_counter', time.perf_counter),\n",
    "    ('process_time', time.process_time),\n",
    "    ('time', time.time),\n",
    "]\n",
    "\n",
    "for clock_name, func in available_clocks:\n",
    "    print(textwrap.dedent('''\\\n",
    "    {name}:\n",
    "        adjustable    : {info.adjustable}\n",
    "        implementation: {info.implementation}\n",
    "        monotonic     : {info.monotonic}\n",
    "        resolution    : {info.resolution}\n",
    "        current       : {current}\n",
    "    ''').format(\n",
    "        name=clock_name,\n",
    "        info=time.get_clock_info(clock_name),\n",
    "        current=func())\n",
    "    )"
   ]
  },
  {
   "cell_type": "markdown",
   "metadata": {},
   "source": [
    "### Wall Clock TIme\n",
    "> One of the core functions of the time module is time(), which returns the number of seconds since the start of the “epoch” as a floating point value.\n",
    "> \n",
    "> 返回自公元纪年开始的秒数,浮点数"
   ]
  },
  {
   "cell_type": "code",
   "execution_count": 4,
   "metadata": {},
   "outputs": [
    {
     "name": "stdout",
     "output_type": "stream",
     "text": [
      "The time is  1589448754.0994627\n",
      "The time is  Thu May 14 17:32:34 2020\n"
     ]
    }
   ],
   "source": [
    "import time\n",
    "print(\"The time is \",time.time())\n",
    "\n",
    "# For logging or printing time ctime() can be more useful.\n",
    "# It is useful for producing human readable representations.\n",
    "print(\"The time is \",time.ctime())"
   ]
  },
  {
   "cell_type": "markdown",
   "metadata": {},
   "source": [
    "### Monotonic Clocks\n",
    "> Because time() looks at the system clock, and the system clock can be changed by the user or system services for synchronizing clocks across multiple computers, calling time() repeatedly may produce values that go forwards and backwards. This can result in unexpected behavior when trying to measure durations or otherwise use those times for computation. Avoid those situations by using monotonic(), which always returns values that go forward.\n",
    "> \n",
    "> time()依赖于系统时间,而系统时间可以被修改.为了准确测量时间段,使用单调时钟的monotonic(),单调时钟的起点是未定义的,因此,两次monotonic()之间的差值才有意义."
   ]
  },
  {
   "cell_type": "code",
   "execution_count": 6,
   "metadata": {},
   "outputs": [
    {
     "name": "stdout",
     "output_type": "stream",
     "text": [
      "start : 140988.78\n",
      "end   : 140988.89\n",
      "span  :      0.10\n"
     ]
    }
   ],
   "source": [
    "import time\n",
    "\n",
    "start = time.monotonic()\n",
    "time.sleep(0.1)\n",
    "end = time.monotonic()\n",
    "print('start : {:>9.2f}'.format(start))\n",
    "print('end   : {:>9.2f}'.format(end))\n",
    "print('span  : {:>9.2f}'.format(end - start))"
   ]
  },
  {
   "cell_type": "markdown",
   "metadata": {},
   "source": [
    "### Processor Clock Time\n",
    "> While time() returns a wall clock time, process_time() returns processor clock time. The values returned from process_time() reflect the actual time used by the program as it runs.\n",
    ">\n",
    "> process_time() 返回处理器的时间"
   ]
  },
  {
   "cell_type": "code",
   "execution_count": 9,
   "metadata": {},
   "outputs": [
    {
     "name": "stdout",
     "output_type": "stream",
     "text": [
      "Thu May 14 17:41:44 2020 : 1589449304.901 1.424\n",
      "Thu May 14 17:41:44 2020 : 1589449304.936 1.461\n",
      "Thu May 14 17:41:44 2020 : 1589449304.968 1.492\n",
      "Thu May 14 17:41:44 2020 : 1589449304.998 1.523\n",
      "Thu May 14 17:41:45 2020 : 1589449305.028 1.553\n"
     ]
    }
   ],
   "source": [
    "import hashlib\n",
    "import time\n",
    "\n",
    "# Data to use to calculate md5 checksums\n",
    "data = \"hello,world.\".encode(\"utf-8\")\n",
    "\n",
    "for i in range(5):\n",
    "    h = hashlib.sha1()\n",
    "    print(time.ctime(), ': {:0.3f} {:0.3f}'.format(\n",
    "        time.time(), time.process_time()))\n",
    "    for i in range(300000):\n",
    "        h.update(data)\n",
    "    cksum = h.digest()"
   ]
  },
  {
   "cell_type": "code",
   "execution_count": 10,
   "metadata": {},
   "outputs": [
    {
     "name": "stdout",
     "output_type": "stream",
     "text": [
      "Thu May 14 17:44:46 2020 - 1589449486.66 - 1.60\n",
      "Sleeping 3\n",
      "Thu May 14 17:44:49 2020 - 1589449489.66 - 1.60\n",
      "Sleeping 2\n",
      "Thu May 14 17:44:51 2020 - 1589449491.66 - 1.61\n",
      "Sleeping 1\n",
      "Thu May 14 17:44:52 2020 - 1589449492.66 - 1.61\n"
     ]
    }
   ],
   "source": [
    "# the processor clock does not tick \n",
    "# if a program is not doing anything.\n",
    "# The time() value increases even while the application is asleep, \n",
    "# but the process_time() value does not.\n",
    "import time\n",
    "\n",
    "template = '{} - {:0.2f} - {:0.2f}'\n",
    "\n",
    "print(template.format(\n",
    "    time.ctime(), time.time(), time.process_time())\n",
    ")\n",
    "\n",
    "for i in range(3, 0, -1):\n",
    "    print('Sleeping', i)\n",
    "    time.sleep(i)\n",
    "    print(template.format(\n",
    "        time.ctime(), time.time(), time.process_time())\n",
    "    )"
   ]
  },
  {
   "cell_type": "markdown",
   "metadata": {},
   "source": [
    "### Performance Counter\n",
    "> It is important to have a high-resolution monotonic clock for measuring performance. Determining the best clock data source requires platform-specific knowledge, which Python provides in perf_counter().\n",
    "> \n",
    "> 返回一个最高分辨率的时钟，和monotonic()一样，起始时钟未定义，两次调用的差值才是有意义的数据。"
   ]
  },
  {
   "cell_type": "code",
   "execution_count": 11,
   "metadata": {},
   "outputs": [
    {
     "name": "stdout",
     "output_type": "stream",
     "text": [
      "Thu May 14 17:50:08 2020 : 0.046 0.047\n",
      "Thu May 14 17:50:08 2020 : 0.029 0.076\n",
      "Thu May 14 17:50:08 2020 : 0.029 0.105\n",
      "Thu May 14 17:50:08 2020 : 0.029 0.134\n",
      "Thu May 14 17:50:08 2020 : 0.029 0.163\n"
     ]
    }
   ],
   "source": [
    "import hashlib\n",
    "import time\n",
    "\n",
    "# Data to use to calculate md5 checksums\n",
    "data = \"hello,world.\".encode(\"utf-8\")\n",
    "\n",
    "loop_start = time.perf_counter()\n",
    "\n",
    "for i in range(5):\n",
    "    iter_start = time.perf_counter()\n",
    "    h = hashlib.sha1()\n",
    "    for i in range(300000):\n",
    "        h.update(data)\n",
    "    cksum = h.digest()\n",
    "    now = time.perf_counter()\n",
    "    loop_elapsed = now - loop_start\n",
    "    iter_elapsed = now - iter_start\n",
    "    print(time.ctime(), ': {:0.3f} {:0.3f}'.format(\n",
    "        iter_elapsed, loop_elapsed))"
   ]
  }
 ],
 "metadata": {
  "kernelspec": {
   "display_name": "Python 3",
   "language": "python",
   "name": "python3"
  },
  "language_info": {
   "codemirror_mode": {
    "name": "ipython",
    "version": 3
   },
   "file_extension": ".py",
   "mimetype": "text/x-python",
   "name": "python",
   "nbconvert_exporter": "python",
   "pygments_lexer": "ipython3",
   "version": "3.8.2"
  }
 },
 "nbformat": 4,
 "nbformat_minor": 4
}
