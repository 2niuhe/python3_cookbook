{
 "cells": [
  {
   "cell_type": "markdown",
   "metadata": {},
   "source": [
    "### Generating Random Numbers\n",
    "\n",
    "- random()\n",
    "> The random() funciton returns the next random floating point value from the range [0,1)\n",
    "\n",
    "- uniform()\n",
    "> generate numbers in a specific numberical range\n",
    "> Actually,this equals to **(min + (max-min) * random())**"
   ]
  },
  {
   "cell_type": "code",
   "execution_count": 5,
   "metadata": {},
   "outputs": [
    {
     "name": "stdout",
     "output_type": "stream",
     "text": [
      "0.758 0.892 0.462 0.372 0.681 \n",
      " --------------------\n",
      "96.538 49.208 40.640 80.843 92.202 "
     ]
    }
   ],
   "source": [
    "import random\n",
    "\n",
    "for i in range(5):\n",
    "    print('%04.3f' % random.random(), end=' ')\n",
    "\n",
    "print(\"\\n\", \"-\"*20)\n",
    "for i in range(5):\n",
    "    print('{:04.3f}'.format(random.uniform(1,100)), end=' ')"
   ]
  },
  {
   "cell_type": "markdown",
   "metadata": {},
   "source": [
    "### Seeding\n",
    "> Random includes the seed() function for initializing the pseudorandom generator so that it produces an expected set of values."
   ]
  },
  {
   "cell_type": "code",
   "execution_count": 6,
   "metadata": {},
   "outputs": [
    {
     "name": "stdout",
     "output_type": "stream",
     "text": [
      "0.134 0.847 0.764 0.255 0.495 "
     ]
    }
   ],
   "source": [
    "import random\n",
    "random.seed(1)\n",
    "\n",
    "for i in range(5):\n",
    "    print('{:04.3f}'.format(random.random()), end=' ')"
   ]
  },
  {
   "cell_type": "markdown",
   "metadata": {},
   "source": [
    "### Saving State\n",
    "> The internal state of the pseudorandom algorithm used by random() can be saved and used to control the numbers produced in subsequent runs. Restoring the previous state before continuing reduces the likelihood of repeating values or sequences of values from the earlier input. \n",
    "> \n",
    "> The **getstate()** function returns data that can be used to re-initialize the random number generator later with **setstate()**.\n",
    "> \n",
    "> 保存随机算法内部状态，用来控制后续各轮的随机数，继续生成随机数前恢复到前一个状态，这减少由之前输入得到重复的值或值序列的可能性。\n",
    ">\n",
    "> **getstate()**会返回一些值，以后可以用**setstate()**恢复这些数据重新初始化随机数生成器。\n",
    "\n",
    "\n"
   ]
  },
  {
   "cell_type": "code",
   "execution_count": 8,
   "metadata": {},
   "outputs": [
    {
     "name": "stdout",
     "output_type": "stream",
     "text": [
      "No state.dat, seeding\n",
      "0.134 0.847 0.764 \n",
      "\n",
      "After saving state:\n",
      "0.255 0.495 0.449 \n"
     ]
    }
   ],
   "source": [
    "import random \n",
    "import os\n",
    "import pickle\n",
    "\n",
    "if os.path.exists('state.dat'):\n",
    "    # Restore the previously saved state\n",
    "    print('Found state.dat, initializing random module')\n",
    "    with open('state.dat', 'rb') as f:\n",
    "        state = pickle.load(f)\n",
    "    random.setstate(state)\n",
    "else:\n",
    "    # Use a well-known start state\n",
    "    print('No state.dat, seeding')\n",
    "    random.seed(1)\n",
    "\n",
    "# Produce random values\n",
    "for i in range(3):\n",
    "    print('{:04.3f}'.format(random.random()), end=' ')\n",
    "print()\n",
    "\n",
    "# Save state for next time\n",
    "with open('state.dat', 'wb') as f:\n",
    "    pickle.dump(random.getstate(), f)\n",
    "\n",
    "# Produce more random values\n",
    "print('\\nAfter saving state:')\n",
    "for i in range(3):\n",
    "    print('{:04.3f}'.format(random.random()), end=' ')\n",
    "print()"
   ]
  },
  {
   "cell_type": "markdown",
   "metadata": {},
   "source": [
    "### Random Integers\n",
    "> random() generates floating point numbers. It is possible to convert the results to integers, but using randint() to generate integers directly is more convenient.\n",
    "\n",
    "- randint()\n",
    "> randint()参数的值是随机数区间两端，第一个值要小于第二个值\n",
    "\n",
    "- randrange()\n",
    "> 从区间选择值的更一般形式，更高效,并不真正构造区间  \n",
    "> randrange(start,stop,step)等价从range(start,stop,step)中随机选择一个值"
   ]
  },
  {
   "cell_type": "code",
   "execution_count": 7,
   "metadata": {},
   "outputs": [
    {
     "name": "stdout",
     "output_type": "stream",
     "text": [
      "[1,100]: 58 61 84 \n",
      "[-5, 5] 1 -2 -4 "
     ]
    }
   ],
   "source": [
    "import random\n",
    "\n",
    "print('[1,100]:', end=' ')\n",
    "\n",
    "for i in range(3):\n",
    "    print(random.randint(1, 100), end=' ')\n",
    "    \n",
    "print('\\n[-5, 5]', end=' ')\n",
    "for i in range(3):\n",
    "    print(random.randint(-5,5), end=' ')"
   ]
  },
  {
   "cell_type": "code",
   "execution_count": 10,
   "metadata": {},
   "outputs": [
    {
     "name": "stdout",
     "output_type": "stream",
     "text": [
      "60 65 95 "
     ]
    }
   ],
   "source": [
    "for i in range(3):\n",
    "    print(random.randrange(0, 100, 5), end=' ')"
   ]
  },
  {
   "cell_type": "markdown",
   "metadata": {},
   "source": [
    "### Picking Random Items\n",
    "> One common use for random number generators is to select a random item from a sequence of enumerated values, even if those values are not numbers. random includes the choice() function for making a random selection from a sequence. This example simulates flipping a coin 10,000 times to count how many times it comes up heads and how many times tails.\n",
    "\n",
    "- choice()\n",
    "> 在一个序列中随机选择一个元素\n"
   ]
  },
  {
   "cell_type": "code",
   "execution_count": 3,
   "metadata": {},
   "outputs": [
    {
     "name": "stdout",
     "output_type": "stream",
     "text": [
      "Heads: 51\n",
      "Tails: 49\n"
     ]
    }
   ],
   "source": [
    "import random\n",
    "import itertools\n",
    "\n",
    "outcomes = {'heads':0,\n",
    "           'tails':0,\n",
    "           }\n",
    "sides = list(outcomes.keys())\n",
    "\n",
    "for i in range(100):\n",
    "    outcomes[random.choice(sides)] += 1\n",
    "    \n",
    "print('Heads:', outcomes['heads'])\n",
    "print('Tails:', outcomes['tails'])"
   ]
  },
  {
   "cell_type": "markdown",
   "metadata": {},
   "source": [
    "### Permutations\n",
    "> A simulation of a card game needs to mix up the deck of cards and then deal them to the players, without using the same card more than once. Using choice() could result in the same card being dealt twice, so instead, the deck can be mixed up with shuffle() and then individual cards removed as they are dealt.\n",
    "\n",
    "- **shuffle()**\n",
    "> shuffle()洗牌，避免将一张牌发出去两次"
   ]
  },
  {
   "cell_type": "code",
   "execution_count": 4,
   "metadata": {},
   "outputs": [
    {
     "name": "stdout",
     "output_type": "stream",
     "text": [
      "Initial deck:\n",
      " 2H  2D  2C  2S  3H  3D  3C  3S  4H  4D  4C  4S  5H \n",
      " 5D  5C  5S  6H  6D  6C  6S  7H  7D  7C  7S  8H  8D \n",
      " 8C  8S  9H  9D  9C  9S 10H 10D 10C 10S  JH  JD  JC \n",
      " JS  QH  QD  QC  QS  KH  KD  KC  KS  AH  AD  AC  AS \n",
      "\n",
      "Shuffled deck:\n",
      " AH  2C 10H  2H  JC  AD  3S 10C  9C  7D  9H 10S  6S \n",
      " 4C  JD  AC  5C  8D  6H  QD  QH  3H  KD  7S  8C  6D \n",
      "10D  2S  3D  3C  2D  KC  7C  QC  JH  9S  KH  9D  4D \n",
      " 5S  8S  4S  JS  6C  AS  5H  QS  4H  5D  8H  7H  KS \n",
      "\n",
      "Hands:\n",
      "1:  KS  4H  6C  5S  9S \n",
      "2:  7H  QS  JS  4D  JH \n",
      "3:  8H  5H  4S  9D  QC \n",
      "4:  5D  AS  8S  KH  7C \n",
      "\n",
      "Remaining deck:\n",
      " AH  2C 10H  2H  JC  AD  3S 10C  9C  7D  9H 10S  6S \n",
      " 4C  JD  AC  5C  8D  6H  QD  QH  3H  KD  7S  8C  6D \n",
      "10D  2S  3D  3C  2D  KC \n"
     ]
    }
   ],
   "source": [
    "import random\n",
    "import itertools\n",
    "\n",
    "FACE_CARDS = ('J', 'Q', 'K', 'A')\n",
    "SUITS = ('H', 'D', 'C', 'S')\n",
    "\n",
    "\n",
    "def new_deck():\n",
    "    return [\n",
    "        # Always use 2 places for the value, so the strings\n",
    "        # are a consistent width.\n",
    "        '{:>2}{}'.format(*c)\n",
    "        for c in itertools.product(\n",
    "            itertools.chain(range(2, 11), FACE_CARDS),\n",
    "            SUITS,\n",
    "        )\n",
    "    ]\n",
    "\n",
    "\n",
    "def show_deck(deck):\n",
    "    p_deck = deck[:]\n",
    "    while p_deck:\n",
    "        row = p_deck[:13]\n",
    "        p_deck = p_deck[13:]\n",
    "        for j in row:\n",
    "            print(j, end=' ')\n",
    "        print()\n",
    "        \n",
    "# Make a new deck, with the cards in order\n",
    "deck = new_deck()\n",
    "print('Initial deck:')\n",
    "show_deck(deck)\n",
    "\n",
    "# Shuffle the deck to randomize the order\n",
    "random.shuffle(deck)\n",
    "print('\\nShuffled deck:')\n",
    "show_deck(deck)\n",
    "\n",
    "# Deal 4 hands of 5 cards each\n",
    "hands = [[], [], [], []]\n",
    "\n",
    "for i in range(5):\n",
    "    for h in hands:\n",
    "        h.append(deck.pop())\n",
    "\n",
    "# Show the hands\n",
    "print('\\nHands:')\n",
    "for n, h in enumerate(hands):\n",
    "    print('{}:'.format(n + 1), end=' ')\n",
    "    for c in h:\n",
    "        print(c, end=' ')\n",
    "    print()\n",
    "\n",
    "# Show the remaining deck\n",
    "print('\\nRemaining deck:')\n",
    "show_deck(deck)\n",
    "\n"
   ]
  },
  {
   "cell_type": "markdown",
   "metadata": {},
   "source": [
    "### Sampling\n",
    "> Many simulations need random samples from a population of input values. The sample() function generates samples without repeating values and without modifying the input sequence. This example prints a random sample of words from the system dictionary.\n",
    "\n",
    "- **sample()**\n",
    "> 采样，可以从大量样本中获得随机样本，sample函数可以生成无重复值的样本，且不会修改输入序列。"
   ]
  },
  {
   "cell_type": "code",
   "execution_count": 5,
   "metadata": {},
   "outputs": [
    {
     "name": "stdout",
     "output_type": "stream",
     "text": [
      "Westerns\n",
      "refreshed\n",
      "embeds\n",
      "asterisking\n",
      "pillow\n"
     ]
    }
   ],
   "source": [
    "import random\n",
    "\n",
    "with open('/usr/share/dict/words', 'rt') as f:\n",
    "    words = f.readlines()\n",
    "words = [w.rstrip() for w in words]\n",
    "\n",
    "for w in random.sample(words, 5):\n",
    "    print(w)"
   ]
  },
  {
   "cell_type": "markdown",
   "metadata": {},
   "source": [
    "### Multiple Simultaneous Generators\n",
    "> In addition to module-level functions, random includes a Random class to manage the internal state for several random number generators. All of the functions described earlier are available as methods of the Random instances, and each instance can be initialized and used separately, without interfering with the values returned by other instances.\n",
    "> \n",
    "> On a system with good native random value seeding, the instances start out in unique states. However, if there is no good platform random value generator, the instances are likely to have been seeded with the current time, and therefore produce the same values.\n",
    "\n",
    "> random还包括一个Random类，可以生成Random实例，各个实例单独初始化和使用，不会和其他实例返回的值相互干扰\n",
    "> \n",
    "> 具体实现依赖系统，需要测试。"
   ]
  },
  {
   "cell_type": "code",
   "execution_count": 6,
   "metadata": {},
   "outputs": [
    {
     "name": "stdout",
     "output_type": "stream",
     "text": [
      "Default initializiation:\n",
      "\n",
      "0.105  0.897\n",
      "0.986  0.647\n",
      "0.437  0.813\n",
      "\n",
      "Same seed:\n",
      "\n",
      "0.407  0.407\n",
      "0.155  0.155\n",
      "0.922  0.922\n"
     ]
    }
   ],
   "source": [
    "import random\n",
    "import time\n",
    "\n",
    "print('Default initializiation:\\n')\n",
    "\n",
    "r1 = random.Random()\n",
    "r2 = random.Random()\n",
    "\n",
    "for i in range(3):\n",
    "    print('{:04.3f}  {:04.3f}'.format(r1.random(), r2.random()))\n",
    "\n",
    "print('\\nSame seed:\\n')\n",
    "\n",
    "seed = time.time()\n",
    "r1 = random.Random(seed)\n",
    "r2 = random.Random(seed)\n",
    "\n",
    "for i in range(3):\n",
    "    print('{:04.3f}  {:04.3f}'.format(r1.random(), r2.random()))"
   ]
  },
  {
   "cell_type": "markdown",
   "metadata": {},
   "source": [
    "### Non-uniform Distributions非均匀分布\n",
    "> While the uniform distribution of the values produced by random() is useful for a lot of purposes, other distributions more accurately model specific situations. The random module includes functions to produce values in those distributions, too. \n",
    "\n",
    "- 正态分布 normalvariate()   gauss()\n",
    "- 指数分布 expovariate()\n",
    "- 近似分布\n",
    "- 角分布"
   ]
  }
 ],
 "metadata": {
  "kernelspec": {
   "display_name": "Python 3",
   "language": "python",
   "name": "python3"
  },
  "language_info": {
   "codemirror_mode": {
    "name": "ipython",
    "version": 3
   },
   "file_extension": ".py",
   "mimetype": "text/x-python",
   "name": "python",
   "nbconvert_exporter": "python",
   "pygments_lexer": "ipython3",
   "version": "3.8.2"
  }
 },
 "nbformat": 4,
 "nbformat_minor": 2
}
